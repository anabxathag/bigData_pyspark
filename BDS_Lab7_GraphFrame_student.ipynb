{
  "nbformat": 4,
  "nbformat_minor": 0,
  "metadata": {
    "colab": {
      "provenance": [],
      "toc_visible": true
    },
    "kernelspec": {
      "name": "python3",
      "display_name": "Python 3"
    },
    "language_info": {
      "name": "python"
    }
  },
  "cells": [
    {
      "cell_type": "markdown",
      "source": [
        "# **Lab 7: Apache Spark Graphframes**\n",
        "\n",
        "**OBJECTIVES** :\n",
        "*   เรียนรู้พื้นฐานการสร้าง Apache Spark Graphframes สำหรับการประมวลผลกราฟ\n"
      ],
      "metadata": {
        "id": "3kNHKDJc1vpb"
      }
    },
    {
      "cell_type": "markdown",
      "source": [
        "**GraphFrames** เป็น library ที่สร้างขึ้นบน Apache Spark ซึ่งรองรับการทำงานกับกราฟโดยใช้ DataFrame API ทำให้สะดวกในการประมวลผลกราฟขนาดใหญ่ในรูปแบบของ DataFrame ที่สามารถทำการ query, filtering และการคำนวณทางสถิติได้ง่ายและรวดเร็ว นอกจากนี้ ยังสามารถใช้ได้กับหลายฟังก์ชัน เช่น PageRank, Shortest Path, Connected Components ซึ่งไม่สามารถทำได้โดยตรงใน GraphX เมื่อใช้ Python"
      ],
      "metadata": {
        "id": "Vn8nEN8VvNnk"
      }
    },
    {
      "cell_type": "markdown",
      "source": [
        "---\n",
        "## **ENVIRONMENT SETUP**"
      ],
      "metadata": {
        "id": "PS8sczVVcaXN"
      }
    },
    {
      "cell_type": "code",
      "source": [
        "import warnings\n",
        "warnings.filterwarnings(\"ignore\")"
      ],
      "metadata": {
        "id": "D8r1n1mCT33q"
      },
      "execution_count": null,
      "outputs": []
    },
    {
      "cell_type": "code",
      "source": [
        "!pip install graphframes"
      ],
      "metadata": {
        "id": "fwCZdZ0EHWR3",
        "colab": {
          "base_uri": "https://localhost:8080/"
        },
        "outputId": "9a394dab-795b-426b-fb4f-46c0a6435f3e"
      },
      "execution_count": null,
      "outputs": [
        {
          "output_type": "stream",
          "name": "stdout",
          "text": [
            "Collecting graphframes\n",
            "  Downloading graphframes-0.6-py2.py3-none-any.whl.metadata (934 bytes)\n",
            "Requirement already satisfied: numpy in /usr/local/lib/python3.11/dist-packages (from graphframes) (1.26.4)\n",
            "Collecting nose (from graphframes)\n",
            "  Downloading nose-1.3.7-py3-none-any.whl.metadata (1.7 kB)\n",
            "Downloading graphframes-0.6-py2.py3-none-any.whl (18 kB)\n",
            "Downloading nose-1.3.7-py3-none-any.whl (154 kB)\n",
            "\u001b[2K   \u001b[90m━━━━━━━━━━━━━━━━━━━━━━━━━━━━━━━━━━━━━━━━\u001b[0m \u001b[32m154.7/154.7 kB\u001b[0m \u001b[31m3.4 MB/s\u001b[0m eta \u001b[36m0:00:00\u001b[0m\n",
            "\u001b[?25hInstalling collected packages: nose, graphframes\n",
            "Successfully installed graphframes-0.6 nose-1.3.7\n"
          ]
        }
      ]
    },
    {
      "cell_type": "code",
      "source": [
        "!pip list | grep graphframes"
      ],
      "metadata": {
        "id": "YjY9iZB4bXuK",
        "colab": {
          "base_uri": "https://localhost:8080/"
        },
        "outputId": "4431fc7c-b436-4e77-a20c-728167becb7e"
      },
      "execution_count": null,
      "outputs": [
        {
          "output_type": "stream",
          "name": "stdout",
          "text": [
            "graphframes                        0.6\n"
          ]
        }
      ]
    },
    {
      "cell_type": "code",
      "source": [
        "# !curl -L -o \"/usr/local/lib/python3.11/dist-packages/pyspark/jars/graphframes-0.8.4-spark3.5-s_2.12.jar\" http://dl.bintray.com/spark-packages/maven/graphframes/graphframes/0.8.4-spark3.5-s_2.12/graphframes-0.8.4-spark3.5-s_2.12.jar\n",
        "!curl -L -o \"/usr/local/lib/python3.11/dist-packages/pyspark/jars/graphframes-0.8.2-spark3.2-s_2.12.jar\" http://dl.bintray.com/spark-packages/maven/graphframes/graphframes/0.8.2-spark3.2-s_2.12/graphframes-0.8.2-spark3.2-s_2.12.jar"
      ],
      "metadata": {
        "colab": {
          "base_uri": "https://localhost:8080/"
        },
        "id": "iCCo-382Jd6i",
        "outputId": "ee1714b9-16b1-486c-eff4-b4505cbbf94a"
      },
      "execution_count": null,
      "outputs": [
        {
          "output_type": "stream",
          "name": "stdout",
          "text": [
            "  % Total    % Received % Xferd  Average Speed   Time    Time     Time  Current\n",
            "                                 Dload  Upload   Total   Spent    Left  Speed\n",
            "100   164  100   164    0     0   1498      0 --:--:-- --:--:-- --:--:--  1504\n",
            "100   146  100   146    0     0    489      0 --:--:-- --:--:-- --:--:--   489\n"
          ]
        }
      ]
    },
    {
      "cell_type": "code",
      "source": [
        "from pyspark.sql import SparkSession\n",
        "from graphframes import GraphFrame"
      ],
      "metadata": {
        "id": "X-7BcBgPRpxe"
      },
      "execution_count": null,
      "outputs": []
    },
    {
      "cell_type": "code",
      "source": [
        "# spark = SparkSession.builder. \\\n",
        "# master(\"local[*]\"). \\\n",
        "# appName(\"GraphFrames Example\"). \\\n",
        "# config(\"spark.jars.packages\", \"graphframes:graphframes:0.8.4-spark3.5-s_2.12\"). \\\n",
        "# getOrCreate()\n",
        "spark = SparkSession.builder \\\n",
        "  .master(\"local[*]\") \\\n",
        "  .config(\"spark.jars.packages\", \"graphframes:graphframes:0.8.2-spark3.2-s_2.12\") \\\n",
        "  .config(\"spark.driver.memory\", \"8g\") \\\n",
        "  .config(\"spark.executor.memory\", \"8g\") \\\n",
        "  .appName(\"GraphFrames\") \\\n",
        "  .getOrCreate()\n",
        "spark\n",
        "\n",
        "spark"
      ],
      "metadata": {
        "colab": {
          "base_uri": "https://localhost:8080/",
          "height": 222
        },
        "id": "Rr2oWkc_HV5v",
        "outputId": "d7bc4209-9356-479d-fb45-7beec6c913d2"
      },
      "execution_count": null,
      "outputs": [
        {
          "output_type": "execute_result",
          "data": {
            "text/plain": [
              "<pyspark.sql.session.SparkSession at 0x7934d07d5c90>"
            ],
            "text/html": [
              "\n",
              "            <div>\n",
              "                <p><b>SparkSession - in-memory</b></p>\n",
              "                \n",
              "        <div>\n",
              "            <p><b>SparkContext</b></p>\n",
              "\n",
              "            <p><a href=\"http://7d4a9c308c57:4040\">Spark UI</a></p>\n",
              "\n",
              "            <dl>\n",
              "              <dt>Version</dt>\n",
              "                <dd><code>v3.5.4</code></dd>\n",
              "              <dt>Master</dt>\n",
              "                <dd><code>local[*]</code></dd>\n",
              "              <dt>AppName</dt>\n",
              "                <dd><code>GraphFrames</code></dd>\n",
              "            </dl>\n",
              "        </div>\n",
              "        \n",
              "            </div>\n",
              "        "
            ]
          },
          "metadata": {},
          "execution_count": 5
        }
      ]
    },
    {
      "cell_type": "code",
      "source": [
        "spark.stop()"
      ],
      "metadata": {
        "id": "bmw40NL7H4kv"
      },
      "execution_count": null,
      "outputs": []
    },
    {
      "cell_type": "code",
      "source": [
        "# spark = SparkSession.builder.master(\"local[2]\").appName(\"GraphFrames\").getOrCreate()\n",
        "# spark"
      ],
      "metadata": {
        "id": "PmCvaWg8SA19",
        "colab": {
          "base_uri": "https://localhost:8080/",
          "height": 222
        },
        "outputId": "cdcf1760-404b-4164-942c-0bf863b3c80d"
      },
      "execution_count": null,
      "outputs": [
        {
          "output_type": "execute_result",
          "data": {
            "text/plain": [
              "<pyspark.sql.session.SparkSession at 0x7e79c5c15310>"
            ],
            "text/html": [
              "\n",
              "            <div>\n",
              "                <p><b>SparkSession - in-memory</b></p>\n",
              "                \n",
              "        <div>\n",
              "            <p><b>SparkContext</b></p>\n",
              "\n",
              "            <p><a href=\"http://e79c0349a7b2:4040\">Spark UI</a></p>\n",
              "\n",
              "            <dl>\n",
              "              <dt>Version</dt>\n",
              "                <dd><code>v3.5.4</code></dd>\n",
              "              <dt>Master</dt>\n",
              "                <dd><code>local[2]</code></dd>\n",
              "              <dt>AppName</dt>\n",
              "                <dd><code>GraphFrames</code></dd>\n",
              "            </dl>\n",
              "        </div>\n",
              "        \n",
              "            </div>\n",
              "        "
            ]
          },
          "metadata": {},
          "execution_count": 5
        }
      ]
    },
    {
      "cell_type": "markdown",
      "source": [
        "---\n",
        "> โครงสร้างของ GraphFrames ประกอบด้วย 2 ส่วนหลัก\n",
        ">\n",
        "> * **Vertices** (โหนดในกราฟ): แทนวัตถุที่เราศึกษา (เช่น คน, สถานที่, องค์กร)\n",
        "> * **Edges** (เส้นเชื่อมโยงระหว่างโหนด): แทนความสัมพันธ์ระหว่างโหนด\n",
        "![image.png](data:image/png;base64,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)\n",
        ">\n",
        "> ขอบคุณภาพจาก [mssqltips](https://www.mssqltips.com/sqlservertip/6746/graph-analytics-apache-spark-graphframe-api/)"
      ],
      "metadata": {
        "id": "Nd4H42BxH6v_"
      }
    },
    {
      "cell_type": "markdown",
      "source": [
        "## **STEP 1: เข้าถึงชุดข้อมูลผ่าน Kaggle API**\n",
        "\n",
        "[SF Bay Area Bike Share](https://www.kaggle.com/datasets/benhamner/sf-bay-area-bike-share)\n",
        "\n",
        "(ขั้นตอนนี้จะใช้เวลานานหน่อยเนื่องจากข้อมูลมีขนาดใหญ่มาก อดทนรอนิดนึงนะคะ :D)"
      ],
      "metadata": {
        "id": "9aI_AKiiUthJ"
      }
    },
    {
      "cell_type": "code",
      "source": [
        "import os\n",
        "os.makedirs('/root/.kaggle', exist_ok=True)\n",
        "\n",
        "!kaggle datasets download -d benhamner/sf-bay-area-bike-share\n",
        "\n",
        "# !unzip sf-bay-area-bike-share.zip -d /content/      # don't do this shit\n",
        "!unzip sf-bay-area-bike-share.zip station.csv trip.csv -d /content/"
      ],
      "metadata": {
        "id": "SWAVGyuLU-6Y",
        "colab": {
          "base_uri": "https://localhost:8080/"
        },
        "outputId": "267f5efe-8ef0-42bf-8c33-085ee5ffddeb"
      },
      "execution_count": null,
      "outputs": [
        {
          "output_type": "stream",
          "name": "stdout",
          "text": [
            "Dataset URL: https://www.kaggle.com/datasets/benhamner/sf-bay-area-bike-share\n",
            "License(s): unknown\n",
            "sf-bay-area-bike-share.zip: Skipping, found more recently modified local copy (use --force to force download)\n",
            "Archive:  sf-bay-area-bike-share.zip\n",
            "  inflating: /content/station.csv    \n",
            "  inflating: /content/trip.csv       \n"
          ]
        }
      ]
    },
    {
      "cell_type": "code",
      "source": [
        "station = spark.read.csv(\"/content/station.csv\", header=True, inferSchema=True)\n",
        "station.show(5)"
      ],
      "metadata": {
        "id": "CU-XOUtzV6HQ",
        "colab": {
          "base_uri": "https://localhost:8080/"
        },
        "outputId": "ce6bf2bd-2b44-4dd4-d1df-96116f0a25e9"
      },
      "execution_count": null,
      "outputs": [
        {
          "output_type": "stream",
          "name": "stdout",
          "text": [
            "+---+--------------------+------------------+-------------------+----------+--------+-----------------+\n",
            "| id|                name|               lat|               long|dock_count|    city|installation_date|\n",
            "+---+--------------------+------------------+-------------------+----------+--------+-----------------+\n",
            "|  2|San Jose Diridon ...|         37.329732|-121.90178200000001|        27|San Jose|         8/6/2013|\n",
            "|  3|San Jose Civic Ce...|         37.330698|        -121.888979|        15|San Jose|         8/5/2013|\n",
            "|  4|Santa Clara at Al...|         37.333988|        -121.894902|        11|San Jose|         8/6/2013|\n",
            "|  5|    Adobe on Almaden|         37.331415|          -121.8932|        19|San Jose|         8/5/2013|\n",
            "|  6|    San Pedro Square|37.336721000000004|        -121.894074|        15|San Jose|         8/7/2013|\n",
            "+---+--------------------+------------------+-------------------+----------+--------+-----------------+\n",
            "only showing top 5 rows\n",
            "\n"
          ]
        }
      ]
    },
    {
      "cell_type": "code",
      "source": [
        "trip = spark.read.csv(\"/content/trip.csv\", header=True, inferSchema=True)\n",
        "trip.show(5)"
      ],
      "metadata": {
        "id": "WeRI0AzkWhyv",
        "colab": {
          "base_uri": "https://localhost:8080/"
        },
        "outputId": "56107e28-a2b2-4351-cf7e-b078574cf1da"
      },
      "execution_count": null,
      "outputs": [
        {
          "output_type": "stream",
          "name": "stdout",
          "text": [
            "+----+--------+---------------+--------------------+----------------+---------------+--------------------+--------------+-------+-----------------+--------+\n",
            "|  id|duration|     start_date|  start_station_name|start_station_id|       end_date|    end_station_name|end_station_id|bike_id|subscription_type|zip_code|\n",
            "+----+--------+---------------+--------------------+----------------+---------------+--------------------+--------------+-------+-----------------+--------+\n",
            "|4576|      63|8/29/2013 14:13|South Van Ness at...|              66|8/29/2013 14:14|South Van Ness at...|            66|    520|       Subscriber|   94127|\n",
            "|4607|      70|8/29/2013 14:42|  San Jose City Hall|              10|8/29/2013 14:43|  San Jose City Hall|            10|    661|       Subscriber|   95138|\n",
            "|4130|      71|8/29/2013 10:16|Mountain View Cit...|              27|8/29/2013 10:17|Mountain View Cit...|            27|     48|       Subscriber|   97214|\n",
            "|4251|      77|8/29/2013 11:29|  San Jose City Hall|              10|8/29/2013 11:30|  San Jose City Hall|            10|     26|       Subscriber|   95060|\n",
            "|4299|      83|8/29/2013 12:02|South Van Ness at...|              66|8/29/2013 12:04|      Market at 10th|            67|    319|       Subscriber|   94103|\n",
            "+----+--------+---------------+--------------------+----------------+---------------+--------------------+--------------+-------+-----------------+--------+\n",
            "only showing top 5 rows\n",
            "\n"
          ]
        }
      ]
    },
    {
      "cell_type": "code",
      "source": [
        "station.printSchema()"
      ],
      "metadata": {
        "id": "h8u-vaPbXVmH",
        "colab": {
          "base_uri": "https://localhost:8080/"
        },
        "outputId": "675b9784-63d3-40e2-e8b7-8125cf986047"
      },
      "execution_count": null,
      "outputs": [
        {
          "output_type": "stream",
          "name": "stdout",
          "text": [
            "root\n",
            " |-- id: integer (nullable = true)\n",
            " |-- name: string (nullable = true)\n",
            " |-- lat: double (nullable = true)\n",
            " |-- long: double (nullable = true)\n",
            " |-- dock_count: integer (nullable = true)\n",
            " |-- city: string (nullable = true)\n",
            " |-- installation_date: string (nullable = true)\n",
            "\n"
          ]
        }
      ]
    },
    {
      "cell_type": "markdown",
      "source": [
        "> `id` : รหัสประจำสถานี\n",
        ">\n",
        "> `name` : ชื่อสถานี\n",
        ">\n",
        "> `lat` : ละติจูดของสถานี\n",
        ">\n",
        "> `long` : ลองจิจูดของสถานี\n",
        ">\n",
        "> `dock_count` : จำนวนที่จอดจักรยานที่สถานีนั้น\n",
        ">\n",
        "> `city` : เมืองที่สถานีตั้งอยู่\n",
        ">\n",
        "> `installation_date` : วันที่ติดตั้งสถานี"
      ],
      "metadata": {
        "id": "iZIrTO_gA3qP"
      }
    },
    {
      "cell_type": "code",
      "source": [
        "trip.printSchema()"
      ],
      "metadata": {
        "id": "KcO5sJMWZEUp",
        "colab": {
          "base_uri": "https://localhost:8080/"
        },
        "outputId": "f6ba0e4b-febd-48c4-a8bb-92533e10cc3f"
      },
      "execution_count": null,
      "outputs": [
        {
          "output_type": "stream",
          "name": "stdout",
          "text": [
            "root\n",
            " |-- id: integer (nullable = true)\n",
            " |-- duration: integer (nullable = true)\n",
            " |-- start_date: string (nullable = true)\n",
            " |-- start_station_name: string (nullable = true)\n",
            " |-- start_station_id: integer (nullable = true)\n",
            " |-- end_date: string (nullable = true)\n",
            " |-- end_station_name: string (nullable = true)\n",
            " |-- end_station_id: integer (nullable = true)\n",
            " |-- bike_id: integer (nullable = true)\n",
            " |-- subscription_type: string (nullable = true)\n",
            " |-- zip_code: string (nullable = true)\n",
            "\n"
          ]
        }
      ]
    },
    {
      "cell_type": "markdown",
      "source": [
        "> `id` : รหัสประจำการเดินทาง\n",
        ">\n",
        "> `duration` : ระยะเวลาการเดินทาง (วินาที)\n",
        ">\n",
        "> `start_date` : วันที่และเวลาที่เริ่มการเดินทาง\n",
        ">\n",
        "> `start_station_name` : ชื่อสถานีที่เริ่มต้น\n",
        ">\n",
        "> `start_station_id` : รหัสประจำสถานีเริ่มต้น\n",
        ">\n",
        "> `end_date` : วันที่และเวลาที่สิ้นสุดการเดินทาง\n",
        ">\n",
        "> `end_station_name` : ชื่อสถานีที่สิ้นสุด\n",
        ">\n",
        "> `end_station_id` : รหัสประจำสถานีสิ้นสุด\n",
        ">\n",
        "> `bike_id` : หมายเลขประจำจักรยาน\n",
        ">\n",
        "> `subscription_type`: ประเภทการสมัครสมาชิกของผู้ใช้\n",
        ">\n",
        "> `zip_code` : รหัสไปรษณีย์ของผู้ใช้ (ถ้ามี)"
      ],
      "metadata": {
        "id": "-0rif1pyBYRp"
      }
    },
    {
      "cell_type": "markdown",
      "source": [
        "## **STEP 2: สร้าง DataFrame สำหรับโหนด (Vertices)**"
      ],
      "metadata": {
        "id": "Jr7sl_yAUsNB"
      }
    },
    {
      "cell_type": "code",
      "source": [
        "from pyspark.sql.types import StringType"
      ],
      "metadata": {
        "id": "blFYLt3QVCVy"
      },
      "execution_count": null,
      "outputs": []
    },
    {
      "cell_type": "code",
      "source": [
        "station.count()"
      ],
      "metadata": {
        "id": "5_Iif-_rS5XX",
        "colab": {
          "base_uri": "https://localhost:8080/"
        },
        "outputId": "cc7fd3ad-4d00-40fb-a60b-0976b382ba67"
      },
      "execution_count": null,
      "outputs": [
        {
          "output_type": "execute_result",
          "data": {
            "text/plain": [
              "70"
            ]
          },
          "metadata": {},
          "execution_count": 12
        }
      ]
    },
    {
      "cell_type": "code",
      "source": [
        "station.select(\"name\").show()"
      ],
      "metadata": {
        "colab": {
          "base_uri": "https://localhost:8080/"
        },
        "id": "n5R1AzZGFq7E",
        "outputId": "2c5dc383-b279-40fe-d16b-13ab88a34ba8"
      },
      "execution_count": null,
      "outputs": [
        {
          "output_type": "stream",
          "name": "stdout",
          "text": [
            "+--------------------+\n",
            "|                name|\n",
            "+--------------------+\n",
            "|San Jose Diridon ...|\n",
            "|San Jose Civic Ce...|\n",
            "|Santa Clara at Al...|\n",
            "|    Adobe on Almaden|\n",
            "|    San Pedro Square|\n",
            "|Paseo de San Antonio|\n",
            "| San Salvador at 1st|\n",
            "|           Japantown|\n",
            "|  San Jose City Hall|\n",
            "|         MLK Library|\n",
            "|SJSU 4th at San C...|\n",
            "|       St James Park|\n",
            "|Arena Green / SAP...|\n",
            "|SJSU - San Salvad...|\n",
            "|   Franklin at Maple|\n",
            "|Redwood City Calt...|\n",
            "|San Mateo County ...|\n",
            "|Redwood City Publ...|\n",
            "|Stanford in Redwo...|\n",
            "|Redwood City Medi...|\n",
            "+--------------------+\n",
            "only showing top 20 rows\n",
            "\n"
          ]
        }
      ]
    },
    {
      "cell_type": "code",
      "source": [
        "station.select(\"name\").distinct().count() #ไม่ซ้ำ"
      ],
      "metadata": {
        "colab": {
          "base_uri": "https://localhost:8080/"
        },
        "id": "RBwDxcnrFyfo",
        "outputId": "4a4a8bcc-6a16-4bbc-fe9a-7898d3420ec7"
      },
      "execution_count": null,
      "outputs": [
        {
          "output_type": "execute_result",
          "data": {
            "text/plain": [
              "70"
            ]
          },
          "metadata": {},
          "execution_count": 14
        }
      ]
    },
    {
      "cell_type": "code",
      "source": [
        "station_vertices = station.withColumn(\"id\", station[\"id\"].cast(StringType())) #เปลี่ยน datatype\n",
        "station_vertices.show(5)"
      ],
      "metadata": {
        "id": "dETIRsOsHWNA",
        "colab": {
          "base_uri": "https://localhost:8080/"
        },
        "outputId": "7c3f905d-2af5-4516-ceb1-cef2491bc23b"
      },
      "execution_count": null,
      "outputs": [
        {
          "output_type": "stream",
          "name": "stdout",
          "text": [
            "+---+--------------------+------------------+-------------------+----------+--------+-----------------+\n",
            "| id|                name|               lat|               long|dock_count|    city|installation_date|\n",
            "+---+--------------------+------------------+-------------------+----------+--------+-----------------+\n",
            "|  2|San Jose Diridon ...|         37.329732|-121.90178200000001|        27|San Jose|         8/6/2013|\n",
            "|  3|San Jose Civic Ce...|         37.330698|        -121.888979|        15|San Jose|         8/5/2013|\n",
            "|  4|Santa Clara at Al...|         37.333988|        -121.894902|        11|San Jose|         8/6/2013|\n",
            "|  5|    Adobe on Almaden|         37.331415|          -121.8932|        19|San Jose|         8/5/2013|\n",
            "|  6|    San Pedro Square|37.336721000000004|        -121.894074|        15|San Jose|         8/7/2013|\n",
            "+---+--------------------+------------------+-------------------+----------+--------+-----------------+\n",
            "only showing top 5 rows\n",
            "\n"
          ]
        }
      ]
    },
    {
      "cell_type": "code",
      "source": [
        "station_vertices.printSchema()"
      ],
      "metadata": {
        "colab": {
          "base_uri": "https://localhost:8080/"
        },
        "id": "t1PSW1n4F9-o",
        "outputId": "d123c97e-e52e-4e5e-b4ed-4dde5d1dc921"
      },
      "execution_count": null,
      "outputs": [
        {
          "output_type": "stream",
          "name": "stdout",
          "text": [
            "root\n",
            " |-- id: string (nullable = true)\n",
            " |-- name: string (nullable = true)\n",
            " |-- lat: double (nullable = true)\n",
            " |-- long: double (nullable = true)\n",
            " |-- dock_count: integer (nullable = true)\n",
            " |-- city: string (nullable = true)\n",
            " |-- installation_date: string (nullable = true)\n",
            "\n"
          ]
        }
      ]
    },
    {
      "cell_type": "markdown",
      "source": [
        "---\n",
        "## **STEP 3: สร้าง DataFrame สำหรับเส้นเชื่อมโยง (Edges)**\n",
        "> `src` : โหนดต้นทาง\n",
        ">\n",
        "> `dst` : โหนดปลายทาง"
      ],
      "metadata": {
        "id": "Ip1nbhb2YUVG"
      }
    },
    {
      "cell_type": "code",
      "source": [
        "trip_edges = (#ใส่วงเล็บเพื่อให้เขียนโค้ดแบบ . แบบเว้นบรรทัดได้\n",
        "    trip.select(\"start_station_name\",\"end_station_name\",\"subscription_type\",\"duration\")\n",
        "    # .withColumnRenamed(\"start_station_id\", \"src\")\n",
        "    .withColumnRenamed(\"start_station_name\", \"src\")\n",
        "    # .withColumnRenamed(\"end_station_id\", \"dst\")\n",
        "    .withColumnRenamed(\"end_station_name\", \"dst\")\n",
        "    .withColumnRenamed(\"subscription_type\", \"relationship\")\n",
        "    .withColumnRenamed(\"duration\", \"cost\")\n",
        ")\n",
        "trip_edges.show(5)"
      ],
      "metadata": {
        "id": "QmvZs7n-HWKo",
        "colab": {
          "base_uri": "https://localhost:8080/"
        },
        "outputId": "07ef64e0-50ab-4871-e243-0fd55639e70c"
      },
      "execution_count": null,
      "outputs": [
        {
          "output_type": "stream",
          "name": "stdout",
          "text": [
            "+--------------------+--------------------+------------+----+\n",
            "|                 src|                 dst|relationship|cost|\n",
            "+--------------------+--------------------+------------+----+\n",
            "|South Van Ness at...|South Van Ness at...|  Subscriber|  63|\n",
            "|  San Jose City Hall|  San Jose City Hall|  Subscriber|  70|\n",
            "|Mountain View Cit...|Mountain View Cit...|  Subscriber|  71|\n",
            "|  San Jose City Hall|  San Jose City Hall|  Subscriber|  77|\n",
            "|South Van Ness at...|      Market at 10th|  Subscriber|  83|\n",
            "+--------------------+--------------------+------------+----+\n",
            "only showing top 5 rows\n",
            "\n"
          ]
        }
      ]
    },
    {
      "cell_type": "markdown",
      "source": [
        "---\n",
        "## **STEP 4: สร้าง GraphFrame**"
      ],
      "metadata": {
        "id": "_CEj2-BPgO5f"
      }
    },
    {
      "cell_type": "code",
      "source": [
        "from graphframes import GraphFrame\n",
        "\n",
        "station_gf = GraphFrame(station_vertices, trip_edges)\n",
        "station_gf"
      ],
      "metadata": {
        "id": "S8ZmpgGQHWIX",
        "colab": {
          "base_uri": "https://localhost:8080/"
        },
        "outputId": "c53e872f-2791-4031-ae03-eb785a9f1e4e"
      },
      "execution_count": null,
      "outputs": [
        {
          "output_type": "execute_result",
          "data": {
            "text/plain": [
              "GraphFrame(v:[id: string, name: string ... 5 more fields], e:[src: int, dst: int ... 2 more fields])"
            ]
          },
          "metadata": {},
          "execution_count": 13
        }
      ]
    },
    {
      "cell_type": "code",
      "source": [
        "station_gf.vertices.show(5)"
      ],
      "metadata": {
        "id": "Kzdfp938cErN",
        "colab": {
          "base_uri": "https://localhost:8080/"
        },
        "outputId": "ac7e0ab2-c007-4a46-96c0-2bfd8fd92872"
      },
      "execution_count": null,
      "outputs": [
        {
          "output_type": "stream",
          "name": "stdout",
          "text": [
            "+---+--------------------+------------------+-------------------+----------+--------+-----------------+\n",
            "| id|                name|               lat|               long|dock_count|    city|installation_date|\n",
            "+---+--------------------+------------------+-------------------+----------+--------+-----------------+\n",
            "|  2|San Jose Diridon ...|         37.329732|-121.90178200000001|        27|San Jose|         8/6/2013|\n",
            "|  3|San Jose Civic Ce...|         37.330698|        -121.888979|        15|San Jose|         8/5/2013|\n",
            "|  4|Santa Clara at Al...|         37.333988|        -121.894902|        11|San Jose|         8/6/2013|\n",
            "|  5|    Adobe on Almaden|         37.331415|          -121.8932|        19|San Jose|         8/5/2013|\n",
            "|  6|    San Pedro Square|37.336721000000004|        -121.894074|        15|San Jose|         8/7/2013|\n",
            "+---+--------------------+------------------+-------------------+----------+--------+-----------------+\n",
            "only showing top 5 rows\n",
            "\n"
          ]
        }
      ]
    },
    {
      "cell_type": "code",
      "source": [
        "station_gf.edges.show(5)"
      ],
      "metadata": {
        "id": "ZrIcwe7INgrN",
        "colab": {
          "base_uri": "https://localhost:8080/"
        },
        "outputId": "f3bbb94b-7cd7-4d28-e0b5-71bf6adab16f"
      },
      "execution_count": null,
      "outputs": [
        {
          "output_type": "stream",
          "name": "stdout",
          "text": [
            "+---+---+------------+----+\n",
            "|src|dst|relationship|cost|\n",
            "+---+---+------------+----+\n",
            "| 66| 66|  Subscriber|  63|\n",
            "| 10| 10|  Subscriber|  70|\n",
            "| 27| 27|  Subscriber|  71|\n",
            "| 10| 10|  Subscriber|  77|\n",
            "| 66| 67|  Subscriber|  83|\n",
            "+---+---+------------+----+\n",
            "only showing top 5 rows\n",
            "\n"
          ]
        }
      ]
    },
    {
      "cell_type": "code",
      "source": [
        "station_gf.triplets.show(5)"
      ],
      "metadata": {
        "colab": {
          "base_uri": "https://localhost:8080/"
        },
        "id": "3cGLGlt_NNeF",
        "outputId": "2082f388-f235-4f2f-9c2c-37eac215287c"
      },
      "execution_count": null,
      "outputs": [
        {
          "output_type": "stream",
          "name": "stdout",
          "text": [
            "+--------------------+--------------------+--------------------+\n",
            "|                 src|                edge|                 dst|\n",
            "+--------------------+--------------------+--------------------+\n",
            "|{66, South Van Ne...|{66, 66, Subscrib...|{66, South Van Ne...|\n",
            "|{10, San Jose Cit...|{10, 10, Subscrib...|{10, San Jose Cit...|\n",
            "|{27, Mountain Vie...|{27, 27, Subscrib...|{27, Mountain Vie...|\n",
            "|{10, San Jose Cit...|{10, 10, Subscrib...|{10, San Jose Cit...|\n",
            "|{66, South Van Ne...|{66, 67, Subscrib...|{67, Market at 10...|\n",
            "+--------------------+--------------------+--------------------+\n",
            "only showing top 5 rows\n",
            "\n"
          ]
        }
      ]
    },
    {
      "cell_type": "code",
      "source": [],
      "metadata": {
        "id": "h_SQjGjaNTnm"
      },
      "execution_count": null,
      "outputs": []
    },
    {
      "cell_type": "markdown",
      "source": [
        "---\n",
        "## **STEP 5: สร้าง GraphFrame อีกครั้ง**"
      ],
      "metadata": {
        "id": "a8tenPp0SJ3E"
      }
    },
    {
      "cell_type": "code",
      "source": [
        "from graphframes import GraphFrame"
      ],
      "metadata": {
        "id": "IRNyW9nPHWPg"
      },
      "execution_count": null,
      "outputs": []
    },
    {
      "cell_type": "code",
      "source": [
        "station_graph = GraphFrame(station_vertices, trip_edges)\n",
        "# station_gf"
      ],
      "metadata": {
        "id": "_ChshQv7SI2N"
      },
      "execution_count": null,
      "outputs": []
    },
    {
      "cell_type": "code",
      "source": [
        "station_graph.vertices.printSchema()"
      ],
      "metadata": {
        "id": "Ug8Jb4RjYjSV",
        "colab": {
          "base_uri": "https://localhost:8080/"
        },
        "outputId": "324774cd-2075-4ec3-8e0a-e122894affc2"
      },
      "execution_count": null,
      "outputs": [
        {
          "output_type": "stream",
          "name": "stdout",
          "text": [
            "root\n",
            " |-- id: string (nullable = true)\n",
            " |-- name: string (nullable = true)\n",
            " |-- lat: double (nullable = true)\n",
            " |-- long: double (nullable = true)\n",
            " |-- dock_count: integer (nullable = true)\n",
            " |-- city: string (nullable = true)\n",
            " |-- installation_date: string (nullable = true)\n",
            "\n"
          ]
        }
      ]
    },
    {
      "cell_type": "code",
      "source": [
        "station_graph.edges.printSchema()"
      ],
      "metadata": {
        "id": "srrSQxHdZ4Ct",
        "colab": {
          "base_uri": "https://localhost:8080/"
        },
        "outputId": "3d60b517-c5a3-4c1b-b55a-dda26397b571"
      },
      "execution_count": null,
      "outputs": [
        {
          "output_type": "stream",
          "name": "stdout",
          "text": [
            "root\n",
            " |-- src: string (nullable = true)\n",
            " |-- dst: string (nullable = true)\n",
            " |-- relationship: string (nullable = true)\n",
            " |-- cost: integer (nullable = true)\n",
            "\n"
          ]
        }
      ]
    },
    {
      "cell_type": "markdown",
      "source": [
        ">`.cache()` ใช้สำหรับเก็บข้อมูลไว้ในหน่วยความจำ เพื่อให้ใช้ซ้ำได้เร็วขึ้นโดยไม่ต้องประมวลผลใหม่ทุกครั้งที่เรียกใช้งาน\n",
        "\n"
      ],
      "metadata": {
        "id": "tNIspYdKfFRE"
      }
    },
    {
      "cell_type": "code",
      "source": [
        "trip_edges.cache()\n",
        "station_vertices.cache()"
      ],
      "metadata": {
        "id": "MI06vRJ7e6_Q",
        "colab": {
          "base_uri": "https://localhost:8080/"
        },
        "outputId": "0a8c21af-60fb-4e60-fe64-c671e8aabc01"
      },
      "execution_count": null,
      "outputs": [
        {
          "output_type": "execute_result",
          "data": {
            "text/plain": [
              "DataFrame[id: string, name: string, lat: double, long: double, dock_count: int, city: string, installation_date: string]"
            ]
          },
          "metadata": {},
          "execution_count": 25
        }
      ]
    },
    {
      "cell_type": "code",
      "source": [
        "print(f\"Total Number of Stations: {station_graph.vertices.count()}\")\n",
        "print(f\"Total Number of Trips in Graph: {station_graph.edges.count()}\")\n",
        "print(f\"Total Number of Trips in Original Data: {trip.count()}\")"
      ],
      "metadata": {
        "id": "Vrvzn1gUf-13",
        "colab": {
          "base_uri": "https://localhost:8080/"
        },
        "outputId": "cbf86563-f333-40ff-d98d-5edada91cded"
      },
      "execution_count": null,
      "outputs": [
        {
          "output_type": "stream",
          "name": "stdout",
          "text": [
            "Total Number of Stations: 70\n",
            "Total Number of Trips in Graph: 669959\n",
            "Total Number of Trips in Original Data: 669959\n"
          ]
        }
      ]
    },
    {
      "cell_type": "markdown",
      "source": [
        "### **Filter**"
      ],
      "metadata": {
        "id": "dPmGfgSDN80t"
      }
    },
    {
      "cell_type": "markdown",
      "source": [
        "1. หาจำนวนที่จอดจักรยานที่สถานีนั้น (dock_count) ที่มีค่าสูงสุด"
      ],
      "metadata": {
        "id": "OYDYZPUpTJRo"
      }
    },
    {
      "cell_type": "code",
      "source": [
        "max_dock = (\n",
        "    station_graph\n",
        "    .vertices\n",
        "    # .agg({\"dock_count\": \"max\"})\n",
        "    .groupBy()\n",
        "    .max(\"dock_count\")\n",
        ")\n",
        "\n",
        "print(\"Maximum number of bike docking stations is\", max_dock.collect()[0][0])"
      ],
      "metadata": {
        "id": "7x5ZOF51RJJ4",
        "colab": {
          "base_uri": "https://localhost:8080/"
        },
        "outputId": "8ef65e42-bbc8-49d6-93ee-36442a1a35cf"
      },
      "execution_count": null,
      "outputs": [
        {
          "output_type": "stream",
          "name": "stdout",
          "text": [
            "Maximum number of bike docking stations is 27\n"
          ]
        }
      ]
    },
    {
      "cell_type": "code",
      "source": [
        "max_dock.collect()  # list"
      ],
      "metadata": {
        "colab": {
          "base_uri": "https://localhost:8080/"
        },
        "id": "sIQloCxQTXj-",
        "outputId": "a1fe7ebc-c756-4b3e-8ccc-1768a99b9488"
      },
      "execution_count": null,
      "outputs": [
        {
          "output_type": "execute_result",
          "data": {
            "text/plain": [
              "[Row(max(dock_count)=27)]"
            ]
          },
          "metadata": {},
          "execution_count": 26
        }
      ]
    },
    {
      "cell_type": "code",
      "source": [
        "max_dock.collect()[0]  # row"
      ],
      "metadata": {
        "colab": {
          "base_uri": "https://localhost:8080/"
        },
        "id": "VJGyUNTjTc6Y",
        "outputId": "d792f8e3-53c6-4e9e-b545-e0d6a244e35d"
      },
      "execution_count": null,
      "outputs": [
        {
          "output_type": "execute_result",
          "data": {
            "text/plain": [
              "Row(max(dock_count)=27)"
            ]
          },
          "metadata": {},
          "execution_count": 27
        }
      ]
    },
    {
      "cell_type": "code",
      "source": [
        "max_dock.collect()[0][0]  # value"
      ],
      "metadata": {
        "colab": {
          "base_uri": "https://localhost:8080/"
        },
        "id": "-rzTbN3WTdAj",
        "outputId": "70907ddf-d5b2-443a-df81-f135f73c30b4"
      },
      "execution_count": null,
      "outputs": [
        {
          "output_type": "execute_result",
          "data": {
            "text/plain": [
              "27"
            ]
          },
          "metadata": {},
          "execution_count": 28
        }
      ]
    },
    {
      "cell_type": "markdown",
      "source": [
        "2. นับจำนวน Subscriber (Subscription type ที่มีค่าเป็น subscriber)"
      ],
      "metadata": {
        "id": "0KXb61pBTgDU"
      }
    },
    {
      "cell_type": "code",
      "source": [
        "station_count = (\n",
        "    station_graph\n",
        "    .edges\n",
        "    # .filter(\"subscription_type = 'Subscriber'\")\n",
        "    .filter(\"relationship = 'Subscriber'\")\n",
        "    .count()\n",
        ")\n",
        "\n",
        "print(\"The number of Subscriber edge is\", station_count)"
      ],
      "metadata": {
        "id": "FS_m3hKOOF1l",
        "colab": {
          "base_uri": "https://localhost:8080/"
        },
        "outputId": "706471a6-f37c-41f3-805d-a0d22a8c7ce0"
      },
      "execution_count": null,
      "outputs": [
        {
          "output_type": "stream",
          "name": "stdout",
          "text": [
            "The number of Subscriber edge is 566746\n"
          ]
        }
      ]
    },
    {
      "cell_type": "markdown",
      "source": [
        "### **In degrees / Out degrees**\n",
        "\n",
        "> `InDegrees` : จำนวนเส้นทาง (edges) ที่ **เข้าสู่** จุด (vertex) หนึ่ง\n",
        ">\n",
        "> `OutDegrees` : จำนวนเส้นทาง (edges) ที่ **ออกจาก** จุด (vertex) หนึ่ง"
      ],
      "metadata": {
        "id": "l493CWTHwnCE"
      }
    },
    {
      "cell_type": "code",
      "source": [
        "in_deg = station_graph.inDegrees\n",
        "# in_deg.show(5, truncate=False)\n",
        "in_deg.sort('inDegree', ascending=False).show(5, truncate=False)"
      ],
      "metadata": {
        "id": "8TRHAhLuwsrG",
        "colab": {
          "base_uri": "https://localhost:8080/"
        },
        "outputId": "59ac2878-e732-443f-eca5-ca8f2588201f"
      },
      "execution_count": null,
      "outputs": [
        {
          "output_type": "stream",
          "name": "stdout",
          "text": [
            "+----------------------------------------+--------+\n",
            "|id                                      |inDegree|\n",
            "+----------------------------------------+--------+\n",
            "|San Francisco Caltrain (Townsend at 4th)|63179   |\n",
            "|San Francisco Caltrain 2 (330 Townsend) |35117   |\n",
            "|Harry Bridges Plaza (Ferry Building)    |33193   |\n",
            "|Embarcadero at Sansome                  |30796   |\n",
            "|2nd at Townsend                         |28529   |\n",
            "+----------------------------------------+--------+\n",
            "only showing top 5 rows\n",
            "\n"
          ]
        }
      ]
    },
    {
      "cell_type": "code",
      "source": [
        "out_deg = station_graph.outDegrees\n",
        "# out_deg.show(5, truncate=False)\n",
        "out_deg.sort('outDegree', ascending=False).show(5, truncate=False)"
      ],
      "metadata": {
        "id": "1BmHOjXPxiCP",
        "colab": {
          "base_uri": "https://localhost:8080/"
        },
        "outputId": "0e4d4b96-3259-4a72-aa9c-209c46a64be3"
      },
      "execution_count": null,
      "outputs": [
        {
          "output_type": "stream",
          "name": "stdout",
          "text": [
            "+---------------------------------------------+---------+\n",
            "|id                                           |outDegree|\n",
            "+---------------------------------------------+---------+\n",
            "|San Francisco Caltrain (Townsend at 4th)     |49092    |\n",
            "|San Francisco Caltrain 2 (330 Townsend)      |33742    |\n",
            "|Harry Bridges Plaza (Ferry Building)         |32934    |\n",
            "|Embarcadero at Sansome                       |27713    |\n",
            "|Temporary Transbay Terminal (Howard at Beale)|26089    |\n",
            "+---------------------------------------------+---------+\n",
            "only showing top 5 rows\n",
            "\n"
          ]
        }
      ]
    },
    {
      "cell_type": "markdown",
      "source": [
        "### **Shortest Path**\n",
        "> `shortestPaths(landmarks)` ใช้สำหรับหาเส้นทางจากโหนดหนึ่งไปยังอีกโหนดหนึ่ง\n",
        ">\n",
        "> `landmarks` : Id ของโหนดต้นทางและปลายทาง"
      ],
      "metadata": {
        "id": "XhqdOh1jEpBa"
      }
    },
    {
      "cell_type": "code",
      "source": [
        "station_graph.vertices.show(5)"
      ],
      "metadata": {
        "colab": {
          "base_uri": "https://localhost:8080/"
        },
        "id": "KUliPSKkk9MR",
        "outputId": "0c85ba29-2ebe-48a3-b876-238685b71862"
      },
      "execution_count": null,
      "outputs": [
        {
          "output_type": "stream",
          "name": "stdout",
          "text": [
            "+---+--------------------+------------------+-------------------+----------+--------+-----------------+\n",
            "| id|                name|               lat|               long|dock_count|    city|installation_date|\n",
            "+---+--------------------+------------------+-------------------+----------+--------+-----------------+\n",
            "|  2|San Jose Diridon ...|         37.329732|-121.90178200000001|        27|San Jose|         8/6/2013|\n",
            "|  3|San Jose Civic Ce...|         37.330698|        -121.888979|        15|San Jose|         8/5/2013|\n",
            "|  4|Santa Clara at Al...|         37.333988|        -121.894902|        11|San Jose|         8/6/2013|\n",
            "|  5|    Adobe on Almaden|         37.331415|          -121.8932|        19|San Jose|         8/5/2013|\n",
            "|  6|    San Pedro Square|37.336721000000004|        -121.894074|        15|San Jose|         8/7/2013|\n",
            "+---+--------------------+------------------+-------------------+----------+--------+-----------------+\n",
            "only showing top 5 rows\n",
            "\n"
          ]
        }
      ]
    },
    {
      "cell_type": "code",
      "source": [
        "shortestPaths_results = station_graph.shortestPaths(landmarks=[\"25\",\"51\"])\n",
        "shortestPaths_results"
      ],
      "metadata": {
        "id": "RFZmT9gEkYbo",
        "colab": {
          "base_uri": "https://localhost:8080/"
        },
        "outputId": "ffbdc2ce-a0be-4003-cc1c-c1cc378d5b2c"
      },
      "execution_count": null,
      "outputs": [
        {
          "output_type": "execute_result",
          "data": {
            "text/plain": [
              "DataFrame[id: string, name: string, lat: double, long: double, dock_count: int, city: string, installation_date: string, distances: map<string,int>]"
            ]
          },
          "metadata": {},
          "execution_count": 58
        }
      ]
    },
    {
      "cell_type": "code",
      "source": [
        "shortestPaths_results.show(55)"
      ],
      "metadata": {
        "id": "ANkoEhtSksNg",
        "colab": {
          "base_uri": "https://localhost:8080/"
        },
        "outputId": "fac24474-d103-4b77-b562-f7ee4aac3cf4"
      },
      "execution_count": null,
      "outputs": [
        {
          "output_type": "stream",
          "name": "stdout",
          "text": [
            "+---+--------------------+------------------+-------------------+----------+-------------+-----------------+---------+\n",
            "| id|                name|               lat|               long|dock_count|         city|installation_date|distances|\n",
            "+---+--------------------+------------------+-------------------+----------+-------------+-----------------+---------+\n",
            "| 37|Cowper at University|         37.448598|        -122.159504|        11|    Palo Alto|        8/14/2013|       {}|\n",
            "| 64|   2nd at South Park|         37.782259|        -122.392738|        15|San Francisco|        8/22/2013|       {}|\n",
            "|  8| San Salvador at 1st|         37.330165|-121.88583100000001|        15|     San Jose|         8/5/2013|       {}|\n",
            "| 62|       2nd at Folsom|         37.785299|-122.39623600000002|        19|San Francisco|        8/22/2013|       {}|\n",
            "|  6|    San Pedro Square|37.336721000000004|        -121.894074|        15|     San Jose|         8/7/2013|       {}|\n",
            "| 12|SJSU 4th at San C...|         37.332808|-121.88389099999999|        19|     San Jose|         8/7/2013|       {}|\n",
            "| 46|Washington at Kea...|         37.795425|-122.40476699999999|        15|San Francisco|        8/19/2013|       {}|\n",
            "| 16|SJSU - San Salvad...|37.333954999999996|        -121.877349|        15|     San Jose|         8/7/2013|       {}|\n",
            "| 29|San Antonio Caltr...|37.406940000000006|-122.10675800000001|        23|Mountain View|        8/15/2013|       {}|\n",
            "| 69|San Francisco Cal...|           37.7766|-122.39546999999999|        23|San Francisco|        8/23/2013|       {}|\n",
            "|  5|    Adobe on Almaden|         37.331415|          -121.8932|        19|     San Jose|         8/5/2013|       {}|\n",
            "| 76|       Market at 4th|         37.786305|-122.40496599999999|        19|San Francisco|        8/25/2013|       {}|\n",
            "| 42|    Davis at Jackson|          37.79728|        -122.398436|        15|San Francisco|        8/19/2013|       {}|\n",
            "| 33|Rengstorff Avenue...|37.400240999999994|        -122.099076|        15|Mountain View|        8/16/2013|       {}|\n",
            "| 14|Arena Green / SAP...|         37.332692|        -121.900084|        19|     San Jose|         8/5/2013|       {}|\n",
            "|  3|San Jose Civic Ce...|         37.330698|        -121.888979|        15|     San Jose|         8/5/2013|       {}|\n",
            "| 54|Embarcadero at Br...|         37.787152|-122.38801299999999|        15|San Francisco|        8/20/2013|       {}|\n",
            "| 41|     Clay at Battery|         37.795001|         -122.39997|        15|San Francisco|        8/19/2013|       {}|\n",
            "| 82|Broadway St at Ba...|         37.798541|-122.40086200000002|        15|San Francisco|        1/22/2014|       {}|\n",
            "| 77|   Market at Sansome|         37.789625|        -122.400811|        27|San Francisco|        8/25/2013|       {}|\n",
            "| 25|Stanford in Redwo...|          37.48537|-122.20328799999999|        15| Redwood City|        8/12/2013|{25 -> 0}|\n",
            "| 84|         Ryland Park|         37.342725|-121.89561699999999|        15|     San Jose|         4/9/2014|       {}|\n",
            "|  9|           Japantown|         37.348742|-121.89471499999999|        15|     San Jose|         8/5/2013|       {}|\n",
            "| 24|Redwood City Publ...|         37.484219|        -122.227424|        15| Redwood City|        8/12/2013|       {}|\n",
            "| 49|     Spear at Folsom|37.790302000000004|-122.39063700000001|        19|San Francisco|        8/20/2013|       {}|\n",
            "| 50|Harry Bridges Pla...|         37.795392|        -122.394203|        23|San Francisco|        8/20/2013|       {}|\n",
            "| 71|Powell at Post (U...|         37.788446|        -122.408499|        19|San Francisco|        8/23/2013|       {}|\n",
            "| 30|Evelyn Park and Ride|37.390277000000005|        -122.066553|        15|Mountain View|        8/16/2013|       {}|\n",
            "| 83|          Mezes Park|         37.491269|-122.23623400000001|        15| Redwood City|        2/20/2014|       {}|\n",
            "| 67|      Market at 10th|37.776619000000004|-122.41738500000001|        27|San Francisco|        8/23/2013|       {}|\n",
            "| 70|San Francisco Cal...|         37.776617|-122.39526000000001|        19|San Francisco|        8/23/2013|       {}|\n",
            "| 55|Temporary Transba...|         37.789756|-122.39464299999999|        23|San Francisco|        8/20/2013|       {}|\n",
            "| 39|  Powell Street BART|37.783871000000005|        -122.408433|        19|San Francisco|        8/25/2013|       {}|\n",
            "| 31|San Antonio Shopp...|         37.400443|-122.10833799999999|        15|Mountain View|       12/31/2013|       {}|\n",
            "|  4|Santa Clara at Al...|         37.333988|        -121.894902|        11|     San Jose|         8/6/2013|       {}|\n",
            "| 47|     Post at Kearney|         37.788975|        -122.403452|        19|San Francisco|        8/19/2013|       {}|\n",
            "| 63|       Howard at 2nd|37.786978000000005|-122.39810800000001|        19|San Francisco|        8/22/2013|       {}|\n",
            "| 21|   Franklin at Maple|         37.481758|        -122.226904|        15| Redwood City|        8/12/2013|       {}|\n",
            "| 11|         MLK Library|         37.335885|-121.88566000000002|        19|     San Jose|         8/6/2013|       {}|\n",
            "| 10|  San Jose City Hall|         37.337391|        -121.886995|        15|     San Jose|         8/6/2013|       {}|\n",
            "| 27|Mountain View Cit...|         37.389218|        -122.081896|        15|Mountain View|        8/16/2013|       {}|\n",
            "| 28|Mountain View Cal...|37.394358000000004|-122.07671299999998|        23|Mountain View|        8/15/2013|       {}|\n",
            "| 59| Golden Gate at Polk|         37.781332|        -122.418603|        23|San Francisco|        8/21/2013|       {}|\n",
            "| 61|     2nd at Townsend|         37.780526|-122.39028799999998|        27|San Francisco|        8/22/2013|       {}|\n",
            "| 13|       St James Park|         37.339301|-121.88993700000002|        15|     San Jose|         8/6/2013|       {}|\n",
            "| 73|Grant Avenue at C...|         37.798522|-122.40724499999999|        15|San Francisco|        8/21/2013|       {}|\n",
            "| 57|       5th at Howard|37.781752000000004|-122.40512700000001|        15|San Francisco|        8/21/2013|       {}|\n",
            "| 48|Embarcadero at Va...|         37.799953|        -122.398525|        15|San Francisco|        8/19/2013|       {}|\n",
            "| 26|Redwood City Medi...|         37.487682|        -122.223492|        15| Redwood City|        8/12/2013|       {}|\n",
            "| 60|Embarcadero at Sa...|          37.80477|-122.40323400000001|        15|San Francisco|        8/21/2013|       {}|\n",
            "| 75|Mechanics Plaza (...|           37.7913|        -122.399051|        19|San Francisco|        8/25/2013|       {}|\n",
            "| 34|Palo Alto Caltrai...|         37.443988|        -122.164759|        23|    Palo Alto|        8/14/2013|       {}|\n",
            "| 56|     Beale at Market|         37.792251|-122.39708600000002|        19|San Francisco|        8/20/2013|       {}|\n",
            "| 51|Embarcadero at Fo...|37.791464000000005|        -122.391034|        19|San Francisco|        8/20/2013|{51 -> 0}|\n",
            "| 35|University and Em...|         37.444521|-122.16309299999999|        11|    Palo Alto|        8/15/2013|       {}|\n",
            "+---+--------------------+------------------+-------------------+----------+-------------+-----------------+---------+\n",
            "only showing top 55 rows\n",
            "\n"
          ]
        }
      ]
    },
    {
      "cell_type": "markdown",
      "source": [
        "> `{n -> 0}` หมายถึง มีความสัมพันธ์กับสถานีตัวเอง (Id n) โดยระยะทางคือ 0\n",
        ">\n",
        ">`{}` หมายถึง ยังไม่มีข้อมูลความสัมพันธ์ระหว่างสถานีเหล่านี้ หรือยังไม่ได้มีการเชื่อมโยงกับสถานีอื่นในกราฟ"
      ],
      "metadata": {
        "id": "gddivAcLl2jf"
      }
    },
    {
      "cell_type": "markdown",
      "source": [
        "### **Connected Components**\n",
        "> ใช้สำหรับหากลุ่มของโหนดในกราฟที่เชื่อมโยงกันอยู่ โดยแต่ละกลุ่มจะเป็น component ที่ไม่สามารถเดินทางระหว่างกลุ่มได้หากไม่ผ่านโหนดที่เชื่อมโยงกันอยู่\n",
        "\n",
        "`setCheckpointDir(\"/tmp/checkpoint\")` ใช้กำหนดที่เก็บข้อมูลสำรอง (checkpoint) ใน Apache Spark ระหว่างการประมวลผล เพื่อป้องกันการสูญหายของข้อมูลในกรณีที่ระบบหยุดทำงานหรือเกิดข้อผิดพลาด ช่วยสามารถย้อนกลับหรือเริ่มใหม่จากจุดที่บันทึกข้อมูลไว้ได้"
      ],
      "metadata": {
        "id": "rlTE5bzqEvCS"
      }
    },
    {
      "cell_type": "code",
      "source": [
        "# spark.sparkContext.setCheckpointDir(\"/tmp/checkpoint\")\n",
        "\n",
        "# connected_components = station_graph.connectedComponents()\n",
        "# connected_components"
      ],
      "metadata": {
        "id": "TjtpUel0EyQD"
      },
      "execution_count": null,
      "outputs": []
    },
    {
      "cell_type": "code",
      "source": [
        "station_gf_test = GraphFrame(\n",
        "    station_gf.vertices.repartition(100),\n",
        "    station_gf.edges.repartition(100)\n",
        ")\n",
        "\n",
        "connected_components = station_gf_test.connectedComponents()"
      ],
      "metadata": {
        "id": "jGBfEtxvlfCw"
      },
      "execution_count": null,
      "outputs": []
    },
    {
      "cell_type": "code",
      "source": [
        "connected_components.show(5, truncate=False)"
      ],
      "metadata": {
        "id": "01SyLorGrCZk"
      },
      "execution_count": null,
      "outputs": []
    },
    {
      "cell_type": "markdown",
      "source": [
        "> ค่าในคอลัมน์ `component` จะแสดงถึง Id ของแต่ละกลุ่มที่โหนด (สถานี) นั้น ๆ  อยู่ภายในกลุ่มที่เชื่อมโยงกัน โดยโหนดทั้งหมดในกลุ่มเดียวกันจะมีค่า `component` เหมือนกัน"
      ],
      "metadata": {
        "id": "vyr86k6HqD7N"
      }
    },
    {
      "cell_type": "code",
      "source": [
        "from pyspark.sql import functions as F"
      ],
      "metadata": {
        "id": "Z_uuerFCBxYc"
      },
      "execution_count": null,
      "outputs": []
    },
    {
      "cell_type": "markdown",
      "source": [
        "แสดง Component ต่างๆ"
      ],
      "metadata": {
        "id": "51L1WoRjB8cR"
      }
    },
    {
      "cell_type": "code",
      "source": [
        "connected_components \\\n",
        ".groupBy(\"component\") \\\n",
        ".agg(F.collect_list(\"id\")\n",
        ".alias(\"stations\")) \\\n",
        ".sort(\"component\") \\\n",
        ".show(50, truncate=False)"
      ],
      "metadata": {
        "id": "2XqvH3W9Bn_U"
      },
      "execution_count": null,
      "outputs": []
    },
    {
      "cell_type": "markdown",
      "source": [
        "### **Breadth-First Search (BFS)**\n",
        "ใช้สำหรับค้นหาหรือสำรวจข้อมูลในกราฟ โดยจะเริ่มจากจุดเริ่มต้นไปยังจุดที่ใกล้ที่สุดก่อน แล้วจึงขยายไปยังโหนดที่ไกลออกไปทีละขั้น จนกว่าจะเจอจุดหมายหรือสำรวจกราฟหมด\n",
        "> `fromExpr` : เงื่อนไขของโหนดที่จะใช้เป็นจุดเริ่มต้นในการค้นหา\n",
        ">\n",
        "> `toExpr` : เงื่อนไขของโหนดที่จะใช้เป็นจุดหมายปลายทาง\n",
        ">\n",
        "> `edgeFilter` : เงื่อนไขเพิ่มเติมสำหรับการกำจัดขอบเขต"
      ],
      "metadata": {
        "id": "lsxspvG1EykJ"
      }
    },
    {
      "cell_type": "code",
      "source": [
        "bfs_results = station_graph.bfs(\n",
        "    fromExpr=\"id = '2'\",\n",
        "    toExpr=\"dock_count > 10\",\n",
        "    edgeFilter=\"subscription_type = 'Subscriber'\"\n",
        ")\n",
        "\n",
        "bfs_results"
      ],
      "metadata": {
        "id": "JF9lLCRLWsZF"
      },
      "execution_count": null,
      "outputs": []
    },
    {
      "cell_type": "code",
      "source": [
        "bfs_results.show(truncate=False)"
      ],
      "metadata": {
        "id": "2m-5IvMjriFX",
        "colab": {
          "base_uri": "https://localhost:8080/"
        },
        "outputId": "8f6d021a-09ec-4151-a0d3-1fa68d4043e1"
      },
      "execution_count": null,
      "outputs": [
        {
          "output_type": "stream",
          "name": "stdout",
          "text": [
            "+----------------------------------------------------------------------------------------------+----------------------------------------------------------------------------------------------+\n",
            "|from                                                                                          |to                                                                                            |\n",
            "+----------------------------------------------------------------------------------------------+----------------------------------------------------------------------------------------------+\n",
            "|{2, San Jose Diridon Caltrain Station, 37.329732, -121.90178200000001, 27, San Jose, 8/6/2013}|{2, San Jose Diridon Caltrain Station, 37.329732, -121.90178200000001, 27, San Jose, 8/6/2013}|\n",
            "+----------------------------------------------------------------------------------------------+----------------------------------------------------------------------------------------------+\n",
            "\n"
          ]
        }
      ]
    },
    {
      "cell_type": "markdown",
      "source": [
        "> พบว่า เส้นทางจากสถานีที่ id = '2' ไปยังสถานีที่มี dock_count > 10 นั้นมีอยู่ในกราฟ ซึ่งในที่นี้แสดงให้เห็นว่าเส้นทางไปยังสถานีเดียวกัน (San Jose Diridon Caltrain Station)"
      ],
      "metadata": {
        "id": "kQ-DyeoPuEyL"
      }
    },
    {
      "cell_type": "markdown",
      "source": [
        "---\n",
        "## **Visualization**\n",
        "> ขอบคุณ Source Code จาก [shorya1996](https://github.com/shorya1996/PySpark/blob/main/GettingStartedWithGraphFramesPart1.ipynb)"
      ],
      "metadata": {
        "id": "oN8jPQWw47yN"
      }
    },
    {
      "cell_type": "code",
      "source": [
        "import matplotlib.pyplot as plt\n",
        "import networkx as nx"
      ],
      "metadata": {
        "id": "2qf8NiNP5D69"
      },
      "execution_count": null,
      "outputs": []
    },
    {
      "cell_type": "markdown",
      "source": [
        "* **Undirected Graph**"
      ],
      "metadata": {
        "id": "NTbe5G458ef0"
      }
    },
    {
      "cell_type": "code",
      "source": [
        "def plot_undirected_graph(edge_list):\n",
        "\n",
        "    plt.figure(figsize=(9,9))\n",
        "    gplot=nx.Graph()\n",
        "\n",
        "    for row in edge_list.select(\"src\", \"dst\").take(1000):\n",
        "        gplot.add_edge(row[\"src\"], row[\"dst\"])\n",
        "\n",
        "    pos = nx.spring_layout(gplot, k=2, iterations=100)\n",
        "\n",
        "    nx.draw(gplot, pos, with_labels=True, font_weight=\"bold\", font_size=8, node_size=500, edge_color='grey')"
      ],
      "metadata": {
        "id": "dXFsNvst43UN"
      },
      "execution_count": null,
      "outputs": []
    },
    {
      "cell_type": "code",
      "source": [
        "plot_undirected_graph(station_graph.edges)"
      ],
      "metadata": {
        "id": "v7p5CLks5dut",
        "colab": {
          "base_uri": "https://localhost:8080/",
          "height": 936
        },
        "outputId": "ad52d95b-dc71-4c62-d631-521886a3eb92"
      },
      "execution_count": null,
      "outputs": [
        {
          "output_type": "display_data",
          "data": {
            "text/plain": [
              "<Figure size 900x900 with 1 Axes>"
            ],
            "image/png": "[encoded data removed]"
          },
          "metadata": {}
        }
      ]
    },
    {
      "cell_type": "markdown",
      "source": [
        "* **Directed Graph**"
      ],
      "metadata": {
        "id": "jVrAcVYQ8lgr"
      }
    },
    {
      "cell_type": "code",
      "source": [
        "def plot_directed_graph(edge_list):\n",
        "\n",
        "    plt.figure(figsize=(9,9))\n",
        "    gplot=nx.DiGraph()\n",
        "    edge_labels = {}\n",
        "\n",
        "    for row in edge_list.select(\"src\", \"dst\", \"duration\").take(1000):\n",
        "        gplot.add_edge(row[\"src\"], row[\"dst\"])\n",
        "        edge_labels[(row[\"src\"], row[\"dst\"])] = row[\"duration\"]\n",
        "\n",
        "    pos = nx.spring_layout(gplot, k=2, iterations=100)\n",
        "\n",
        "    nx.draw(gplot, pos, with_labels=True, font_weight=\"bold\", font_size=8, node_size=500, edge_color='gray')\n",
        "\n",
        "    nx.draw_networkx_edge_labels(gplot, pos, edge_labels=edge_labels, font_color=\"green\", font_size=8, font_weight=\"bold\")"
      ],
      "metadata": {
        "id": "9GXexWPb8Wdb"
      },
      "execution_count": null,
      "outputs": []
    },
    {
      "cell_type": "code",
      "source": [
        "indegree_edges = trip_edges.filter((\"dst = 'Stanford in Redwood City'\"))\n",
        "plot_directed_graph(indegree_edges)"
      ],
      "metadata": {
        "id": "kjZ85fj7-ray"
      },
      "execution_count": null,
      "outputs": []
    },
    {
      "cell_type": "markdown",
      "source": [
        "---\n",
        "## **Exporting & Importing GraphFrame Data**"
      ],
      "metadata": {
        "id": "Z1f1lpOW2k0v"
      }
    },
    {
      "cell_type": "markdown",
      "source": [
        "* **CSV**"
      ],
      "metadata": {
        "id": "LFOcCZbv3bxG"
      }
    },
    {
      "cell_type": "code",
      "source": [
        "station_graph.vertices.write.mode(\"overwrite\").option(\"header\", \"true\").csv(\"/content/vertices_csv\")\n",
        "station_graph.edges.write.mode(\"overwrite\").option(\"header\", \"true\").csv(\"/content/edges_csv\")"
      ],
      "metadata": {
        "id": "SYrVkgFS2eh3"
      },
      "execution_count": null,
      "outputs": []
    },
    {
      "cell_type": "code",
      "source": [
        "vertices_csv_df = spark.read.option(\"header\", \"true\").csv(\"/content/vertices_csv\")\n",
        "edges_csv_df = spark.read.option(\"header\", \"true\").csv(\"/content/edges_csv\")"
      ],
      "metadata": {
        "id": "p7UkHO-Y230m"
      },
      "execution_count": null,
      "outputs": []
    },
    {
      "cell_type": "code",
      "source": [
        "graphFrame_csv = GraphFrame(vertices_csv_df, edges_csv_df)"
      ],
      "metadata": {
        "id": "sGkEBWiv4KrW"
      },
      "execution_count": null,
      "outputs": []
    },
    {
      "cell_type": "code",
      "source": [
        "graphFrame_csv.vertices.show(5)"
      ],
      "metadata": {
        "id": "eztwjk-k4col",
        "colab": {
          "base_uri": "https://localhost:8080/"
        },
        "outputId": "f2f9e50d-daa1-4400-bf9d-b4455e40670a"
      },
      "execution_count": null,
      "outputs": [
        {
          "output_type": "stream",
          "name": "stdout",
          "text": [
            "+---+--------------------+------------------+-------------------+----------+--------+-----------------+\n",
            "| id|                name|               lat|               long|dock_count|    city|installation_date|\n",
            "+---+--------------------+------------------+-------------------+----------+--------+-----------------+\n",
            "|  2|San Jose Diridon ...|         37.329732|-121.90178200000001|        27|San Jose|         8/6/2013|\n",
            "|  3|San Jose Civic Ce...|         37.330698|        -121.888979|        15|San Jose|         8/5/2013|\n",
            "|  4|Santa Clara at Al...|         37.333988|        -121.894902|        11|San Jose|         8/6/2013|\n",
            "|  5|    Adobe on Almaden|         37.331415|          -121.8932|        19|San Jose|         8/5/2013|\n",
            "|  6|    San Pedro Square|37.336721000000004|        -121.894074|        15|San Jose|         8/7/2013|\n",
            "+---+--------------------+------------------+-------------------+----------+--------+-----------------+\n",
            "only showing top 5 rows\n",
            "\n"
          ]
        }
      ]
    },
    {
      "cell_type": "code",
      "source": [
        "graphFrame_csv.vertices.show(5)"
      ],
      "metadata": {
        "id": "4kqJNJn24dHd",
        "colab": {
          "base_uri": "https://localhost:8080/"
        },
        "outputId": "e1e61ec2-7109-497e-b972-e746e5ea9b16"
      },
      "execution_count": null,
      "outputs": [
        {
          "output_type": "stream",
          "name": "stdout",
          "text": [
            "+---+--------------------+------------------+-------------------+----------+--------+-----------------+\n",
            "| id|                name|               lat|               long|dock_count|    city|installation_date|\n",
            "+---+--------------------+------------------+-------------------+----------+--------+-----------------+\n",
            "|  2|San Jose Diridon ...|         37.329732|-121.90178200000001|        27|San Jose|         8/6/2013|\n",
            "|  3|San Jose Civic Ce...|         37.330698|        -121.888979|        15|San Jose|         8/5/2013|\n",
            "|  4|Santa Clara at Al...|         37.333988|        -121.894902|        11|San Jose|         8/6/2013|\n",
            "|  5|    Adobe on Almaden|         37.331415|          -121.8932|        19|San Jose|         8/5/2013|\n",
            "|  6|    San Pedro Square|37.336721000000004|        -121.894074|        15|San Jose|         8/7/2013|\n",
            "+---+--------------------+------------------+-------------------+----------+--------+-----------------+\n",
            "only showing top 5 rows\n",
            "\n"
          ]
        }
      ]
    },
    {
      "cell_type": "markdown",
      "source": [
        "* **JSON**"
      ],
      "metadata": {
        "id": "zuZB_Xgi3mQt"
      }
    },
    {
      "cell_type": "code",
      "source": [
        "station_graph.vertices.write.mode(\"overwrite\").json(\"/content/vertices_json\")\n",
        "station_graph.edges.write.mode(\"overwrite\").json(\"/content/edges_json\")"
      ],
      "metadata": {
        "id": "3MotKWNI3v8m"
      },
      "execution_count": null,
      "outputs": []
    },
    {
      "cell_type": "code",
      "source": [
        "vertices_json_df = spark.read.json(\"/content/vertices_json\")\n",
        "edges_json_df = spark.read.json(\"/content/edges_json\")"
      ],
      "metadata": {
        "id": "6mnH9-153-lu"
      },
      "execution_count": null,
      "outputs": []
    },
    {
      "cell_type": "code",
      "source": [
        "graphFrame_json = GraphFrame(vertices_json_df, edges_json_df)"
      ],
      "metadata": {
        "id": "Ubl3kgVS4FKW"
      },
      "execution_count": null,
      "outputs": []
    },
    {
      "cell_type": "code",
      "source": [
        "graphFrame_json.vertices.show(5)"
      ],
      "metadata": {
        "id": "DwHm5YSM4RoF",
        "colab": {
          "base_uri": "https://localhost:8080/"
        },
        "outputId": "ca3020ba-34d5-4844-9be1-1bf3d0839aaf"
      },
      "execution_count": null,
      "outputs": [
        {
          "output_type": "stream",
          "name": "stdout",
          "text": [
            "+--------+----------+---+-----------------+------------------+-------------------+--------------------+\n",
            "|    city|dock_count| id|installation_date|               lat|               long|                name|\n",
            "+--------+----------+---+-----------------+------------------+-------------------+--------------------+\n",
            "|San Jose|        27|  2|         8/6/2013|         37.329732|-121.90178200000001|San Jose Diridon ...|\n",
            "|San Jose|        15|  3|         8/5/2013|         37.330698|        -121.888979|San Jose Civic Ce...|\n",
            "|San Jose|        11|  4|         8/6/2013|         37.333988|        -121.894902|Santa Clara at Al...|\n",
            "|San Jose|        19|  5|         8/5/2013|         37.331415|          -121.8932|    Adobe on Almaden|\n",
            "|San Jose|        15|  6|         8/7/2013|37.336721000000004|        -121.894074|    San Pedro Square|\n",
            "+--------+----------+---+-----------------+------------------+-------------------+--------------------+\n",
            "only showing top 5 rows\n",
            "\n"
          ]
        }
      ]
    },
    {
      "cell_type": "code",
      "source": [
        "graphFrame_json.edges.show(5)"
      ],
      "metadata": {
        "id": "XdyqmWCt4SlW",
        "colab": {
          "base_uri": "https://localhost:8080/"
        },
        "outputId": "b4df19a5-46ef-433b-c528-6b9d258d6027"
      },
      "execution_count": null,
      "outputs": [
        {
          "output_type": "stream",
          "name": "stdout",
          "text": [
            "+----+---+------------+---+\n",
            "|cost|dst|relationship|src|\n",
            "+----+---+------------+---+\n",
            "|  63| 66|  Subscriber| 66|\n",
            "|  70| 10|  Subscriber| 10|\n",
            "|  71| 27|  Subscriber| 27|\n",
            "|  77| 10|  Subscriber| 10|\n",
            "|  83| 67|  Subscriber| 66|\n",
            "+----+---+------------+---+\n",
            "only showing top 5 rows\n",
            "\n"
          ]
        }
      ]
    },
    {
      "cell_type": "markdown",
      "source": [
        "---\n",
        "## **SUMMARY**"
      ],
      "metadata": {
        "id": "9bz2i5UE7FNf"
      }
    },
    {
      "cell_type": "markdown",
      "source": [
        "**GraphFrame**\n",
        "* ใช้ DataFrame API\n",
        "* รองรับ SQL และ DataFrame operations\n",
        "* รองรับ Python, Scala, Java\n",
        "* มีฟังก์ชันสำเร็จรูป เช่น PageRank, Shortest Path, Connected Components\n",
        "* ใช้ร่วมกับ CSV, Parquet, JSON และ Database ได้ง่าย\n",
        "* เหมาะสำหรับงานที่ไม่ซับซ้อน ต้องการเน้นความง่ายและสะดวกในการใช้งาน\n",
        "\n",
        "**GraphX**\n",
        "* ใช้ RDD-based API (ค่อนข้างเร็วกว่า DataFrame)\n",
        "* รองรับ Scala, Java (ไม่รองรับ Python)\n",
        "* มีฟังก์ชันคล้ายกับ GraphFrame แต่จำเป็นต้องแปลงโครงสร้างข้อมูลจาก RDD → Graph → RDD เองทุกครั้ง ไม่สามารถเรียกใช้ได้ทันที\n",
        "* เหมาะสำหรับงานที่ต้องการ Performance และ Customization สูง"
      ],
      "metadata": {
        "id": "YYyRmy_i7Wln"
      }
    },
    {
      "cell_type": "markdown",
      "source": [
        "---\n",
        "#**Lab 7: Exercises**"
      ],
      "metadata": {
        "id": "PVk10Khetufg"
      }
    },
    {
      "cell_type": "code",
      "source": [
        "station_graph.edges"
      ],
      "metadata": {
        "colab": {
          "base_uri": "https://localhost:8080/"
        },
        "id": "co0AVUubmFmI",
        "outputId": "65179717-925a-4b32-b43e-de8dd841927e"
      },
      "execution_count": null,
      "outputs": [
        {
          "output_type": "execute_result",
          "data": {
            "text/plain": [
              "DataFrame[src: int, dst: int, relationship: string, cost: int]"
            ]
          },
          "metadata": {},
          "execution_count": 41
        }
      ]
    },
    {
      "cell_type": "code",
      "source": [
        "station_graph.edges"
      ],
      "metadata": {
        "colab": {
          "base_uri": "https://localhost:8080/"
        },
        "id": "zTy0SLLPo_8M",
        "outputId": "ec2261f7-0699-4e50-e157-ac7debc33146"
      },
      "execution_count": null,
      "outputs": [
        {
          "output_type": "execute_result",
          "data": {
            "text/plain": [
              "DataFrame[src: string, dst: string, relationship: string, cost: int]"
            ]
          },
          "metadata": {},
          "execution_count": 65
        }
      ]
    },
    {
      "cell_type": "markdown",
      "source": [
        "1) นับจำนวนเส้นทางที่มีสถานีต้นทางและปลายทางเหมือนกัน เพื่อดูว่า **เส้นทางยอดนิยม** ของการเดินทางคือที่ไหน"
      ],
      "metadata": {
        "id": "54BMW62wx9cV"
      }
    },
    {
      "cell_type": "code",
      "source": [
        "top_trips = (\n",
        "    station_graph\n",
        "    .edges\n",
        "    .groupBy(\"src\", \"dst\")\n",
        "    .count()\n",
        "    .sort(\"count\", ascending=False)\n",
        ")"
      ],
      "metadata": {
        "id": "UG0Y8_4GuJMf"
      },
      "execution_count": null,
      "outputs": []
    },
    {
      "cell_type": "code",
      "source": [
        "top_trips.show(5, truncate=False)"
      ],
      "metadata": {
        "id": "I8E4PoF11W4x",
        "colab": {
          "base_uri": "https://localhost:8080/"
        },
        "outputId": "0760ffad-f611-4417-a079-3c31ea516ff8"
      },
      "execution_count": null,
      "outputs": [
        {
          "output_type": "stream",
          "name": "stdout",
          "text": [
            "+---------------------------------------+----------------------------------------+-----+\n",
            "|src                                    |dst                                     |count|\n",
            "+---------------------------------------+----------------------------------------+-----+\n",
            "|San Francisco Caltrain 2 (330 Townsend)|Townsend at 7th                         |6216 |\n",
            "|Harry Bridges Plaza (Ferry Building)   |Embarcadero at Sansome                  |6164 |\n",
            "|Townsend at 7th                        |San Francisco Caltrain (Townsend at 4th)|5041 |\n",
            "|2nd at Townsend                        |Harry Bridges Plaza (Ferry Building)    |4839 |\n",
            "|Harry Bridges Plaza (Ferry Building)   |2nd at Townsend                         |4357 |\n",
            "+---------------------------------------+----------------------------------------+-----+\n",
            "only showing top 5 rows\n",
            "\n"
          ]
        }
      ]
    },
    {
      "cell_type": "markdown",
      "source": [
        "2) หาสถานีที่มีจำนวน Trip Sink **มากที่สุด** และ **น้อยที่สุด**\n",
        "\n",
        ">`Trip Sink` : สถานีที่ผู้ใช้มักเดินทางไปถึงบ่อย แต่แทบไม่มีการเริ่มต้นออกจากที่นั่น"
      ],
      "metadata": {
        "id": "VYW_d5bnyV6e"
      }
    },
    {
      "cell_type": "code",
      "source": [
        "# degree_ratio = (\n",
        "#     station_graph\n",
        "#     .degrees\n",
        "#     .sort(\"degree\", ascending=False)\n",
        "# )"
      ],
      "metadata": {
        "id": "V6KLO-3PzgHF"
      },
      "execution_count": null,
      "outputs": []
    },
    {
      "cell_type": "code",
      "source": [
        "degree_ratio = (\n",
        "    in_deg.join(out_deg, \"id\", \"outer\")\n",
        "    .withColumn(\"degree_ratio\", (in_deg[\"inDegree\"] / out_deg[\"outDegree\"]))\n",
        "    .sort(\"degree_ratio\", ascending=False)\n",
        "    )"
      ],
      "metadata": {
        "id": "8zkONbgUnFka"
      },
      "execution_count": null,
      "outputs": []
    },
    {
      "cell_type": "code",
      "source": [
        "degree_ratio.show()"
      ],
      "metadata": {
        "colab": {
          "base_uri": "https://localhost:8080/"
        },
        "id": "2YjVDG89nRwc",
        "outputId": "2ad2fdc7-1e8f-4805-8e13-6b490c6ad334"
      },
      "execution_count": null,
      "outputs": [
        {
          "output_type": "stream",
          "name": "stdout",
          "text": [
            "+--------------------+--------+---------+------------------+\n",
            "|                  id|inDegree|outDegree|      degree_ratio|\n",
            "+--------------------+--------+---------+------------------+\n",
            "|Redwood City Medi...|     452|      311|1.4533762057877813|\n",
            "|Redwood City Publ...|     277|      213| 1.300469483568075|\n",
            "|San Francisco Cal...|   63179|    49092| 1.286951030717836|\n",
            "|Washington at Kearny|    5461|     4292|1.2723671947809878|\n",
            "|         MLK Library|    2508|     2034| 1.233038348082596|\n",
            "|SJSU 4th at San C...|    1437|     1170|1.2282051282051283|\n",
            "|San Mateo County ...|     350|      287|1.2195121951219512|\n",
            "|    Broadway at Main|      81|       67| 1.208955223880597|\n",
            "|University and Em...|    1823|     1512|1.2056878306878307|\n",
            "|Washington at Kea...|    1772|     1472| 1.203804347826087|\n",
            "|Embarcadero at Va...|   12313|    10592|1.1624811178247734|\n",
            "|   Market at Sansome|   28033|    24172|1.1597302664239617|\n",
            "|           Japantown|    2200|     1910|1.1518324607329844|\n",
            "|   Franklin at Maple|     254|      224|1.1339285714285714|\n",
            "|     Townsend at 7th|   26637|    23724|1.1227870510875064|\n",
            "|San Jose Civic Ce...|    1786|     1594|1.1204516938519449|\n",
            "|Paseo de San Antonio|    2498|     2233|1.1186744290192565|\n",
            "|Embarcadero at Sa...|   30796|    27713|1.1112474290044383|\n",
            "|California Ave Ca...|    1138|     1026|1.1091617933723197|\n",
            "|     2nd at Townsend|   28529|    25837|1.1041916631187831|\n",
            "+--------------------+--------+---------+------------------+\n",
            "only showing top 20 rows\n",
            "\n"
          ]
        }
      ]
    },
    {
      "cell_type": "code",
      "source": [
        "degree_ratio.toPandas().head(3)"
      ],
      "metadata": {
        "id": "0zRXeHkc0_2c",
        "colab": {
          "base_uri": "https://localhost:8080/",
          "height": 143
        },
        "outputId": "54eec9b5-8036-4af6-9eb2-eef5f0ce63c5"
      },
      "execution_count": null,
      "outputs": [
        {
          "output_type": "execute_result",
          "data": {
            "text/plain": [
              "                                         id  inDegree  outDegree  degree_ratio\n",
              "0               Redwood City Medical Center       452        311      1.453376\n",
              "1               Redwood City Public Library       277        213      1.300469\n",
              "2  San Francisco Caltrain (Townsend at 4th)     63179      49092      1.286951"
            ],
            "text/html": [
              "\n",
              "  <div id=\"df-03768577-cae8-440a-84f6-51a27cd54465\" class=\"colab-df-container\">\n",
              "    <div>\n",
              "<style scoped>\n",
              "    .dataframe tbody tr th:only-of-type {\n",
              "        vertical-align: middle;\n",
              "    }\n",
              "\n",
              "    .dataframe tbody tr th {\n",
              "        vertical-align: top;\n",
              "    }\n",
              "\n",
              "    .dataframe thead th {\n",
              "        text-align: right;\n",
              "    }\n",
              "</style>\n",
              "<table border=\"1\" class=\"dataframe\">\n",
              "  <thead>\n",
              "    <tr style=\"text-align: right;\">\n",
              "      <th></th>\n",
              "      <th>id</th>\n",
              "      <th>inDegree</th>\n",
              "      <th>outDegree</th>\n",
              "      <th>degree_ratio</th>\n",
              "    </tr>\n",
              "  </thead>\n",
              "  <tbody>\n",
              "    <tr>\n",
              "      <th>0</th>\n",
              "      <td>Redwood City Medical Center</td>\n",
              "      <td>452</td>\n",
              "      <td>311</td>\n",
              "      <td>1.453376</td>\n",
              "    </tr>\n",
              "    <tr>\n",
              "      <th>1</th>\n",
              "      <td>Redwood City Public Library</td>\n",
              "      <td>277</td>\n",
              "      <td>213</td>\n",
              "      <td>1.300469</td>\n",
              "    </tr>\n",
              "    <tr>\n",
              "      <th>2</th>\n",
              "      <td>San Francisco Caltrain (Townsend at 4th)</td>\n",
              "      <td>63179</td>\n",
              "      <td>49092</td>\n",
              "      <td>1.286951</td>\n",
              "    </tr>\n",
              "  </tbody>\n",
              "</table>\n",
              "</div>\n",
              "    <div class=\"colab-df-buttons\">\n",
              "\n",
              "  <div class=\"colab-df-container\">\n",
              "    <button class=\"colab-df-convert\" onclick=\"convertToInteractive('df-03768577-cae8-440a-84f6-51a27cd54465')\"\n",
              "            title=\"Convert this dataframe to an interactive table.\"\n",
              "            style=\"display:none;\">\n",
              "\n",
              "  <svg xmlns=\"http://www.w3.org/2000/svg\" height=\"24px\" viewBox=\"0 -960 960 960\">\n",
              "    <path d=\"M120-120v-720h720v720H120Zm60-500h600v-160H180v160Zm220 220h160v-160H400v160Zm0 220h160v-160H400v160ZM180-400h160v-160H180v160Zm440 0h160v-160H620v160ZM180-180h160v-160H180v160Zm440 0h160v-160H620v160Z\"/>\n",
              "  </svg>\n",
              "    </button>\n",
              "\n",
              "  <style>\n",
              "    .colab-df-container {\n",
              "      display:flex;\n",
              "      gap: 12px;\n",
              "    }\n",
              "\n",
              "    .colab-df-convert {\n",
              "      background-color: #E8F0FE;\n",
              "      border: none;\n",
              "      border-radius: 50%;\n",
              "      cursor: pointer;\n",
              "      display: none;\n",
              "      fill: #1967D2;\n",
              "      height: 32px;\n",
              "      padding: 0 0 0 0;\n",
              "      width: 32px;\n",
              "    }\n",
              "\n",
              "    .colab-df-convert:hover {\n",
              "      background-color: #E2EBFA;\n",
              "      box-shadow: 0px 1px 2px rgba(60, 64, 67, 0.3), 0px 1px 3px 1px rgba(60, 64, 67, 0.15);\n",
              "      fill: #174EA6;\n",
              "    }\n",
              "\n",
              "    .colab-df-buttons div {\n",
              "      margin-bottom: 4px;\n",
              "    }\n",
              "\n",
              "    [theme=dark] .colab-df-convert {\n",
              "      background-color: #3B4455;\n",
              "      fill: #D2E3FC;\n",
              "    }\n",
              "\n",
              "    [theme=dark] .colab-df-convert:hover {\n",
              "      background-color: #434B5C;\n",
              "      box-shadow: 0px 1px 3px 1px rgba(0, 0, 0, 0.15);\n",
              "      filter: drop-shadow(0px 1px 2px rgba(0, 0, 0, 0.3));\n",
              "      fill: #FFFFFF;\n",
              "    }\n",
              "  </style>\n",
              "\n",
              "    <script>\n",
              "      const buttonEl =\n",
              "        document.querySelector('#df-03768577-cae8-440a-84f6-51a27cd54465 button.colab-df-convert');\n",
              "      buttonEl.style.display =\n",
              "        google.colab.kernel.accessAllowed ? 'block' : 'none';\n",
              "\n",
              "      async function convertToInteractive(key) {\n",
              "        const element = document.querySelector('#df-03768577-cae8-440a-84f6-51a27cd54465');\n",
              "        const dataTable =\n",
              "          await google.colab.kernel.invokeFunction('convertToInteractive',\n",
              "                                                    [key], {});\n",
              "        if (!dataTable) return;\n",
              "\n",
              "        const docLinkHtml = 'Like what you see? Visit the ' +\n",
              "          '<a target=\"_blank\" href=https://colab.research.google.com/notebooks/data_table.ipynb>data table notebook</a>'\n",
              "          + ' to learn more about interactive tables.';\n",
              "        element.innerHTML = '';\n",
              "        dataTable['output_type'] = 'display_data';\n",
              "        await google.colab.output.renderOutput(dataTable, element);\n",
              "        const docLink = document.createElement('div');\n",
              "        docLink.innerHTML = docLinkHtml;\n",
              "        element.appendChild(docLink);\n",
              "      }\n",
              "    </script>\n",
              "  </div>\n",
              "\n",
              "\n",
              "<div id=\"df-63136dff-a5e6-44c3-abf1-228308107e56\">\n",
              "  <button class=\"colab-df-quickchart\" onclick=\"quickchart('df-63136dff-a5e6-44c3-abf1-228308107e56')\"\n",
              "            title=\"Suggest charts\"\n",
              "            style=\"display:none;\">\n",
              "\n",
              "<svg xmlns=\"http://www.w3.org/2000/svg\" height=\"24px\"viewBox=\"0 0 24 24\"\n",
              "     width=\"24px\">\n",
              "    <g>\n",
              "        <path d=\"M19 3H5c-1.1 0-2 .9-2 2v14c0 1.1.9 2 2 2h14c1.1 0 2-.9 2-2V5c0-1.1-.9-2-2-2zM9 17H7v-7h2v7zm4 0h-2V7h2v10zm4 0h-2v-4h2v4z\"/>\n",
              "    </g>\n",
              "</svg>\n",
              "  </button>\n",
              "\n",
              "<style>\n",
              "  .colab-df-quickchart {\n",
              "      --bg-color: #E8F0FE;\n",
              "      --fill-color: #1967D2;\n",
              "      --hover-bg-color: #E2EBFA;\n",
              "      --hover-fill-color: #174EA6;\n",
              "      --disabled-fill-color: #AAA;\n",
              "      --disabled-bg-color: #DDD;\n",
              "  }\n",
              "\n",
              "  [theme=dark] .colab-df-quickchart {\n",
              "      --bg-color: #3B4455;\n",
              "      --fill-color: #D2E3FC;\n",
              "      --hover-bg-color: #434B5C;\n",
              "      --hover-fill-color: #FFFFFF;\n",
              "      --disabled-bg-color: #3B4455;\n",
              "      --disabled-fill-color: #666;\n",
              "  }\n",
              "\n",
              "  .colab-df-quickchart {\n",
              "    background-color: var(--bg-color);\n",
              "    border: none;\n",
              "    border-radius: 50%;\n",
              "    cursor: pointer;\n",
              "    display: none;\n",
              "    fill: var(--fill-color);\n",
              "    height: 32px;\n",
              "    padding: 0;\n",
              "    width: 32px;\n",
              "  }\n",
              "\n",
              "  .colab-df-quickchart:hover {\n",
              "    background-color: var(--hover-bg-color);\n",
              "    box-shadow: 0 1px 2px rgba(60, 64, 67, 0.3), 0 1px 3px 1px rgba(60, 64, 67, 0.15);\n",
              "    fill: var(--button-hover-fill-color);\n",
              "  }\n",
              "\n",
              "  .colab-df-quickchart-complete:disabled,\n",
              "  .colab-df-quickchart-complete:disabled:hover {\n",
              "    background-color: var(--disabled-bg-color);\n",
              "    fill: var(--disabled-fill-color);\n",
              "    box-shadow: none;\n",
              "  }\n",
              "\n",
              "  .colab-df-spinner {\n",
              "    border: 2px solid var(--fill-color);\n",
              "    border-color: transparent;\n",
              "    border-bottom-color: var(--fill-color);\n",
              "    animation:\n",
              "      spin 1s steps(1) infinite;\n",
              "  }\n",
              "\n",
              "  @keyframes spin {\n",
              "    0% {\n",
              "      border-color: transparent;\n",
              "      border-bottom-color: var(--fill-color);\n",
              "      border-left-color: var(--fill-color);\n",
              "    }\n",
              "    20% {\n",
              "      border-color: transparent;\n",
              "      border-left-color: var(--fill-color);\n",
              "      border-top-color: var(--fill-color);\n",
              "    }\n",
              "    30% {\n",
              "      border-color: transparent;\n",
              "      border-left-color: var(--fill-color);\n",
              "      border-top-color: var(--fill-color);\n",
              "      border-right-color: var(--fill-color);\n",
              "    }\n",
              "    40% {\n",
              "      border-color: transparent;\n",
              "      border-right-color: var(--fill-color);\n",
              "      border-top-color: var(--fill-color);\n",
              "    }\n",
              "    60% {\n",
              "      border-color: transparent;\n",
              "      border-right-color: var(--fill-color);\n",
              "    }\n",
              "    80% {\n",
              "      border-color: transparent;\n",
              "      border-right-color: var(--fill-color);\n",
              "      border-bottom-color: var(--fill-color);\n",
              "    }\n",
              "    90% {\n",
              "      border-color: transparent;\n",
              "      border-bottom-color: var(--fill-color);\n",
              "    }\n",
              "  }\n",
              "</style>\n",
              "\n",
              "  <script>\n",
              "    async function quickchart(key) {\n",
              "      const quickchartButtonEl =\n",
              "        document.querySelector('#' + key + ' button');\n",
              "      quickchartButtonEl.disabled = true;  // To prevent multiple clicks.\n",
              "      quickchartButtonEl.classList.add('colab-df-spinner');\n",
              "      try {\n",
              "        const charts = await google.colab.kernel.invokeFunction(\n",
              "            'suggestCharts', [key], {});\n",
              "      } catch (error) {\n",
              "        console.error('Error during call to suggestCharts:', error);\n",
              "      }\n",
              "      quickchartButtonEl.classList.remove('colab-df-spinner');\n",
              "      quickchartButtonEl.classList.add('colab-df-quickchart-complete');\n",
              "    }\n",
              "    (() => {\n",
              "      let quickchartButtonEl =\n",
              "        document.querySelector('#df-63136dff-a5e6-44c3-abf1-228308107e56 button');\n",
              "      quickchartButtonEl.style.display =\n",
              "        google.colab.kernel.accessAllowed ? 'block' : 'none';\n",
              "    })();\n",
              "  </script>\n",
              "</div>\n",
              "\n",
              "    </div>\n",
              "  </div>\n"
            ],
            "application/vnd.google.colaboratory.intrinsic+json": {
              "type": "dataframe",
              "summary": "{\n  \"name\": \"degree_ratio\",\n  \"rows\": 3,\n  \"fields\": [\n    {\n      \"column\": \"id\",\n      \"properties\": {\n        \"dtype\": \"string\",\n        \"num_unique_values\": 3,\n        \"samples\": [\n          \"Redwood City Medical Center\",\n          \"Redwood City Public Library\",\n          \"San Francisco Caltrain (Townsend at 4th)\"\n        ],\n        \"semantic_type\": \"\",\n        \"description\": \"\"\n      }\n    },\n    {\n      \"column\": \"inDegree\",\n      \"properties\": {\n        \"dtype\": \"int32\",\n        \"num_unique_values\": 3,\n        \"samples\": [\n          452,\n          277,\n          63179\n        ],\n        \"semantic_type\": \"\",\n        \"description\": \"\"\n      }\n    },\n    {\n      \"column\": \"outDegree\",\n      \"properties\": {\n        \"dtype\": \"int32\",\n        \"num_unique_values\": 3,\n        \"samples\": [\n          311,\n          213,\n          49092\n        ],\n        \"semantic_type\": \"\",\n        \"description\": \"\"\n      }\n    },\n    {\n      \"column\": \"degree_ratio\",\n      \"properties\": {\n        \"dtype\": \"number\",\n        \"std\": 0.0924306525315966,\n        \"min\": 1.286951030717836,\n        \"max\": 1.4533762057877813,\n        \"num_unique_values\": 3,\n        \"samples\": [\n          1.4533762057877813,\n          1.300469483568075,\n          1.286951030717836\n        ],\n        \"semantic_type\": \"\",\n        \"description\": \"\"\n      }\n    }\n  ]\n}"
            }
          },
          "metadata": {},
          "execution_count": 71
        }
      ]
    },
    {
      "cell_type": "code",
      "source": [
        "degree_ratio.toPandas().tail(3)"
      ],
      "metadata": {
        "id": "1kjzDqfo0uwd",
        "colab": {
          "base_uri": "https://localhost:8080/",
          "height": 143
        },
        "outputId": "381beafc-ceea-4895-e95d-5354328dcb83"
      },
      "execution_count": null,
      "outputs": [
        {
          "output_type": "execute_result",
          "data": {
            "text/plain": [
              "                                 id  inDegree  outDegree  degree_ratio\n",
              "71    Powell at Post (Union Square)      8606      12496      0.688700\n",
              "72                    2nd at Folsom      9654      15940      0.605646\n",
              "73  Grant Avenue at Columbus Avenue      9208      16306      0.564700"
            ],
            "text/html": [
              "\n",
              "  <div id=\"df-065aef83-c74f-4c20-9342-175b29e10838\" class=\"colab-df-container\">\n",
              "    <div>\n",
              "<style scoped>\n",
              "    .dataframe tbody tr th:only-of-type {\n",
              "        vertical-align: middle;\n",
              "    }\n",
              "\n",
              "    .dataframe tbody tr th {\n",
              "        vertical-align: top;\n",
              "    }\n",
              "\n",
              "    .dataframe thead th {\n",
              "        text-align: right;\n",
              "    }\n",
              "</style>\n",
              "<table border=\"1\" class=\"dataframe\">\n",
              "  <thead>\n",
              "    <tr style=\"text-align: right;\">\n",
              "      <th></th>\n",
              "      <th>id</th>\n",
              "      <th>inDegree</th>\n",
              "      <th>outDegree</th>\n",
              "      <th>degree_ratio</th>\n",
              "    </tr>\n",
              "  </thead>\n",
              "  <tbody>\n",
              "    <tr>\n",
              "      <th>71</th>\n",
              "      <td>Powell at Post (Union Square)</td>\n",
              "      <td>8606</td>\n",
              "      <td>12496</td>\n",
              "      <td>0.688700</td>\n",
              "    </tr>\n",
              "    <tr>\n",
              "      <th>72</th>\n",
              "      <td>2nd at Folsom</td>\n",
              "      <td>9654</td>\n",
              "      <td>15940</td>\n",
              "      <td>0.605646</td>\n",
              "    </tr>\n",
              "    <tr>\n",
              "      <th>73</th>\n",
              "      <td>Grant Avenue at Columbus Avenue</td>\n",
              "      <td>9208</td>\n",
              "      <td>16306</td>\n",
              "      <td>0.564700</td>\n",
              "    </tr>\n",
              "  </tbody>\n",
              "</table>\n",
              "</div>\n",
              "    <div class=\"colab-df-buttons\">\n",
              "\n",
              "  <div class=\"colab-df-container\">\n",
              "    <button class=\"colab-df-convert\" onclick=\"convertToInteractive('df-065aef83-c74f-4c20-9342-175b29e10838')\"\n",
              "            title=\"Convert this dataframe to an interactive table.\"\n",
              "            style=\"display:none;\">\n",
              "\n",
              "  <svg xmlns=\"http://www.w3.org/2000/svg\" height=\"24px\" viewBox=\"0 -960 960 960\">\n",
              "    <path d=\"M120-120v-720h720v720H120Zm60-500h600v-160H180v160Zm220 220h160v-160H400v160Zm0 220h160v-160H400v160ZM180-400h160v-160H180v160Zm440 0h160v-160H620v160ZM180-180h160v-160H180v160Zm440 0h160v-160H620v160Z\"/>\n",
              "  </svg>\n",
              "    </button>\n",
              "\n",
              "  <style>\n",
              "    .colab-df-container {\n",
              "      display:flex;\n",
              "      gap: 12px;\n",
              "    }\n",
              "\n",
              "    .colab-df-convert {\n",
              "      background-color: #E8F0FE;\n",
              "      border: none;\n",
              "      border-radius: 50%;\n",
              "      cursor: pointer;\n",
              "      display: none;\n",
              "      fill: #1967D2;\n",
              "      height: 32px;\n",
              "      padding: 0 0 0 0;\n",
              "      width: 32px;\n",
              "    }\n",
              "\n",
              "    .colab-df-convert:hover {\n",
              "      background-color: #E2EBFA;\n",
              "      box-shadow: 0px 1px 2px rgba(60, 64, 67, 0.3), 0px 1px 3px 1px rgba(60, 64, 67, 0.15);\n",
              "      fill: #174EA6;\n",
              "    }\n",
              "\n",
              "    .colab-df-buttons div {\n",
              "      margin-bottom: 4px;\n",
              "    }\n",
              "\n",
              "    [theme=dark] .colab-df-convert {\n",
              "      background-color: #3B4455;\n",
              "      fill: #D2E3FC;\n",
              "    }\n",
              "\n",
              "    [theme=dark] .colab-df-convert:hover {\n",
              "      background-color: #434B5C;\n",
              "      box-shadow: 0px 1px 3px 1px rgba(0, 0, 0, 0.15);\n",
              "      filter: drop-shadow(0px 1px 2px rgba(0, 0, 0, 0.3));\n",
              "      fill: #FFFFFF;\n",
              "    }\n",
              "  </style>\n",
              "\n",
              "    <script>\n",
              "      const buttonEl =\n",
              "        document.querySelector('#df-065aef83-c74f-4c20-9342-175b29e10838 button.colab-df-convert');\n",
              "      buttonEl.style.display =\n",
              "        google.colab.kernel.accessAllowed ? 'block' : 'none';\n",
              "\n",
              "      async function convertToInteractive(key) {\n",
              "        const element = document.querySelector('#df-065aef83-c74f-4c20-9342-175b29e10838');\n",
              "        const dataTable =\n",
              "          await google.colab.kernel.invokeFunction('convertToInteractive',\n",
              "                                                    [key], {});\n",
              "        if (!dataTable) return;\n",
              "\n",
              "        const docLinkHtml = 'Like what you see? Visit the ' +\n",
              "          '<a target=\"_blank\" href=https://colab.research.google.com/notebooks/data_table.ipynb>data table notebook</a>'\n",
              "          + ' to learn more about interactive tables.';\n",
              "        element.innerHTML = '';\n",
              "        dataTable['output_type'] = 'display_data';\n",
              "        await google.colab.output.renderOutput(dataTable, element);\n",
              "        const docLink = document.createElement('div');\n",
              "        docLink.innerHTML = docLinkHtml;\n",
              "        element.appendChild(docLink);\n",
              "      }\n",
              "    </script>\n",
              "  </div>\n",
              "\n",
              "\n",
              "<div id=\"df-08ce6730-4e92-4904-97ae-3d28edddafae\">\n",
              "  <button class=\"colab-df-quickchart\" onclick=\"quickchart('df-08ce6730-4e92-4904-97ae-3d28edddafae')\"\n",
              "            title=\"Suggest charts\"\n",
              "            style=\"display:none;\">\n",
              "\n",
              "<svg xmlns=\"http://www.w3.org/2000/svg\" height=\"24px\"viewBox=\"0 0 24 24\"\n",
              "     width=\"24px\">\n",
              "    <g>\n",
              "        <path d=\"M19 3H5c-1.1 0-2 .9-2 2v14c0 1.1.9 2 2 2h14c1.1 0 2-.9 2-2V5c0-1.1-.9-2-2-2zM9 17H7v-7h2v7zm4 0h-2V7h2v10zm4 0h-2v-4h2v4z\"/>\n",
              "    </g>\n",
              "</svg>\n",
              "  </button>\n",
              "\n",
              "<style>\n",
              "  .colab-df-quickchart {\n",
              "      --bg-color: #E8F0FE;\n",
              "      --fill-color: #1967D2;\n",
              "      --hover-bg-color: #E2EBFA;\n",
              "      --hover-fill-color: #174EA6;\n",
              "      --disabled-fill-color: #AAA;\n",
              "      --disabled-bg-color: #DDD;\n",
              "  }\n",
              "\n",
              "  [theme=dark] .colab-df-quickchart {\n",
              "      --bg-color: #3B4455;\n",
              "      --fill-color: #D2E3FC;\n",
              "      --hover-bg-color: #434B5C;\n",
              "      --hover-fill-color: #FFFFFF;\n",
              "      --disabled-bg-color: #3B4455;\n",
              "      --disabled-fill-color: #666;\n",
              "  }\n",
              "\n",
              "  .colab-df-quickchart {\n",
              "    background-color: var(--bg-color);\n",
              "    border: none;\n",
              "    border-radius: 50%;\n",
              "    cursor: pointer;\n",
              "    display: none;\n",
              "    fill: var(--fill-color);\n",
              "    height: 32px;\n",
              "    padding: 0;\n",
              "    width: 32px;\n",
              "  }\n",
              "\n",
              "  .colab-df-quickchart:hover {\n",
              "    background-color: var(--hover-bg-color);\n",
              "    box-shadow: 0 1px 2px rgba(60, 64, 67, 0.3), 0 1px 3px 1px rgba(60, 64, 67, 0.15);\n",
              "    fill: var(--button-hover-fill-color);\n",
              "  }\n",
              "\n",
              "  .colab-df-quickchart-complete:disabled,\n",
              "  .colab-df-quickchart-complete:disabled:hover {\n",
              "    background-color: var(--disabled-bg-color);\n",
              "    fill: var(--disabled-fill-color);\n",
              "    box-shadow: none;\n",
              "  }\n",
              "\n",
              "  .colab-df-spinner {\n",
              "    border: 2px solid var(--fill-color);\n",
              "    border-color: transparent;\n",
              "    border-bottom-color: var(--fill-color);\n",
              "    animation:\n",
              "      spin 1s steps(1) infinite;\n",
              "  }\n",
              "\n",
              "  @keyframes spin {\n",
              "    0% {\n",
              "      border-color: transparent;\n",
              "      border-bottom-color: var(--fill-color);\n",
              "      border-left-color: var(--fill-color);\n",
              "    }\n",
              "    20% {\n",
              "      border-color: transparent;\n",
              "      border-left-color: var(--fill-color);\n",
              "      border-top-color: var(--fill-color);\n",
              "    }\n",
              "    30% {\n",
              "      border-color: transparent;\n",
              "      border-left-color: var(--fill-color);\n",
              "      border-top-color: var(--fill-color);\n",
              "      border-right-color: var(--fill-color);\n",
              "    }\n",
              "    40% {\n",
              "      border-color: transparent;\n",
              "      border-right-color: var(--fill-color);\n",
              "      border-top-color: var(--fill-color);\n",
              "    }\n",
              "    60% {\n",
              "      border-color: transparent;\n",
              "      border-right-color: var(--fill-color);\n",
              "    }\n",
              "    80% {\n",
              "      border-color: transparent;\n",
              "      border-right-color: var(--fill-color);\n",
              "      border-bottom-color: var(--fill-color);\n",
              "    }\n",
              "    90% {\n",
              "      border-color: transparent;\n",
              "      border-bottom-color: var(--fill-color);\n",
              "    }\n",
              "  }\n",
              "</style>\n",
              "\n",
              "  <script>\n",
              "    async function quickchart(key) {\n",
              "      const quickchartButtonEl =\n",
              "        document.querySelector('#' + key + ' button');\n",
              "      quickchartButtonEl.disabled = true;  // To prevent multiple clicks.\n",
              "      quickchartButtonEl.classList.add('colab-df-spinner');\n",
              "      try {\n",
              "        const charts = await google.colab.kernel.invokeFunction(\n",
              "            'suggestCharts', [key], {});\n",
              "      } catch (error) {\n",
              "        console.error('Error during call to suggestCharts:', error);\n",
              "      }\n",
              "      quickchartButtonEl.classList.remove('colab-df-spinner');\n",
              "      quickchartButtonEl.classList.add('colab-df-quickchart-complete');\n",
              "    }\n",
              "    (() => {\n",
              "      let quickchartButtonEl =\n",
              "        document.querySelector('#df-08ce6730-4e92-4904-97ae-3d28edddafae button');\n",
              "      quickchartButtonEl.style.display =\n",
              "        google.colab.kernel.accessAllowed ? 'block' : 'none';\n",
              "    })();\n",
              "  </script>\n",
              "</div>\n",
              "\n",
              "    </div>\n",
              "  </div>\n"
            ],
            "application/vnd.google.colaboratory.intrinsic+json": {
              "type": "dataframe",
              "summary": "{\n  \"name\": \"degree_ratio\",\n  \"rows\": 3,\n  \"fields\": [\n    {\n      \"column\": \"id\",\n      \"properties\": {\n        \"dtype\": \"string\",\n        \"num_unique_values\": 3,\n        \"samples\": [\n          \"Powell at Post (Union Square)\",\n          \"2nd at Folsom\",\n          \"Grant Avenue at Columbus Avenue\"\n        ],\n        \"semantic_type\": \"\",\n        \"description\": \"\"\n      }\n    },\n    {\n      \"column\": \"inDegree\",\n      \"properties\": {\n        \"dtype\": \"int32\",\n        \"num_unique_values\": 3,\n        \"samples\": [\n          8606,\n          9654,\n          9208\n        ],\n        \"semantic_type\": \"\",\n        \"description\": \"\"\n      }\n    },\n    {\n      \"column\": \"outDegree\",\n      \"properties\": {\n        \"dtype\": \"int32\",\n        \"num_unique_values\": 3,\n        \"samples\": [\n          12496,\n          15940,\n          16306\n        ],\n        \"semantic_type\": \"\",\n        \"description\": \"\"\n      }\n    },\n    {\n      \"column\": \"degree_ratio\",\n      \"properties\": {\n        \"dtype\": \"number\",\n        \"std\": 0.06318049527896032,\n        \"min\": 0.564700110388814,\n        \"max\": 0.6887003841229193,\n        \"num_unique_values\": 3,\n        \"samples\": [\n          0.6887003841229193,\n          0.6056461731493099,\n          0.564700110388814\n        ],\n        \"semantic_type\": \"\",\n        \"description\": \"\"\n      }\n    }\n  ]\n}"
            }
          },
          "metadata": {},
          "execution_count": 72
        }
      ]
    },
    {
      "cell_type": "markdown",
      "source": [
        "3) หา **สถานีปลายทางยอดนิยม** สำหรับผู้ที่เป็นสมาชิกระดับ **Subscriber**"
      ],
      "metadata": {
        "id": "vllex3gWvIcH"
      }
    },
    {
      "cell_type": "code",
      "source": [
        "popular_destination = (\n",
        "    station_graph\n",
        "    .edges\n",
        "    .filter(\"relationship = 'Subscriber'\")\n",
        "    .groupBy(\"dst\")\n",
        "    .count()\n",
        "    .sort(\"count\", ascending=False)\n",
        ")"
      ],
      "metadata": {
        "id": "mZXoZpiKviqu"
      },
      "execution_count": null,
      "outputs": []
    },
    {
      "cell_type": "code",
      "source": [
        "popular_destination.toPandas().head(5)"
      ],
      "metadata": {
        "id": "tFfVPjSYwJ-J",
        "colab": {
          "base_uri": "https://localhost:8080/",
          "height": 206
        },
        "outputId": "f90549a9-5bdf-4ffb-bc76-79287bdf6324"
      },
      "execution_count": null,
      "outputs": [
        {
          "output_type": "execute_result",
          "data": {
            "text/plain": [
              "                                        dst  count\n",
              "0  San Francisco Caltrain (Townsend at 4th)  59258\n",
              "1   San Francisco Caltrain 2 (330 Townsend)  33422\n",
              "2                         Market at Sansome  25540\n",
              "3                           2nd at Townsend  25085\n",
              "4                           Townsend at 7th  24878"
            ],
            "text/html": [
              "\n",
              "  <div id=\"df-5e1c93da-f1c7-42cf-9ea6-fc853125de81\" class=\"colab-df-container\">\n",
              "    <div>\n",
              "<style scoped>\n",
              "    .dataframe tbody tr th:only-of-type {\n",
              "        vertical-align: middle;\n",
              "    }\n",
              "\n",
              "    .dataframe tbody tr th {\n",
              "        vertical-align: top;\n",
              "    }\n",
              "\n",
              "    .dataframe thead th {\n",
              "        text-align: right;\n",
              "    }\n",
              "</style>\n",
              "<table border=\"1\" class=\"dataframe\">\n",
              "  <thead>\n",
              "    <tr style=\"text-align: right;\">\n",
              "      <th></th>\n",
              "      <th>dst</th>\n",
              "      <th>count</th>\n",
              "    </tr>\n",
              "  </thead>\n",
              "  <tbody>\n",
              "    <tr>\n",
              "      <th>0</th>\n",
              "      <td>San Francisco Caltrain (Townsend at 4th)</td>\n",
              "      <td>59258</td>\n",
              "    </tr>\n",
              "    <tr>\n",
              "      <th>1</th>\n",
              "      <td>San Francisco Caltrain 2 (330 Townsend)</td>\n",
              "      <td>33422</td>\n",
              "    </tr>\n",
              "    <tr>\n",
              "      <th>2</th>\n",
              "      <td>Market at Sansome</td>\n",
              "      <td>25540</td>\n",
              "    </tr>\n",
              "    <tr>\n",
              "      <th>3</th>\n",
              "      <td>2nd at Townsend</td>\n",
              "      <td>25085</td>\n",
              "    </tr>\n",
              "    <tr>\n",
              "      <th>4</th>\n",
              "      <td>Townsend at 7th</td>\n",
              "      <td>24878</td>\n",
              "    </tr>\n",
              "  </tbody>\n",
              "</table>\n",
              "</div>\n",
              "    <div class=\"colab-df-buttons\">\n",
              "\n",
              "  <div class=\"colab-df-container\">\n",
              "    <button class=\"colab-df-convert\" onclick=\"convertToInteractive('df-5e1c93da-f1c7-42cf-9ea6-fc853125de81')\"\n",
              "            title=\"Convert this dataframe to an interactive table.\"\n",
              "            style=\"display:none;\">\n",
              "\n",
              "  <svg xmlns=\"http://www.w3.org/2000/svg\" height=\"24px\" viewBox=\"0 -960 960 960\">\n",
              "    <path d=\"M120-120v-720h720v720H120Zm60-500h600v-160H180v160Zm220 220h160v-160H400v160Zm0 220h160v-160H400v160ZM180-400h160v-160H180v160Zm440 0h160v-160H620v160ZM180-180h160v-160H180v160Zm440 0h160v-160H620v160Z\"/>\n",
              "  </svg>\n",
              "    </button>\n",
              "\n",
              "  <style>\n",
              "    .colab-df-container {\n",
              "      display:flex;\n",
              "      gap: 12px;\n",
              "    }\n",
              "\n",
              "    .colab-df-convert {\n",
              "      background-color: #E8F0FE;\n",
              "      border: none;\n",
              "      border-radius: 50%;\n",
              "      cursor: pointer;\n",
              "      display: none;\n",
              "      fill: #1967D2;\n",
              "      height: 32px;\n",
              "      padding: 0 0 0 0;\n",
              "      width: 32px;\n",
              "    }\n",
              "\n",
              "    .colab-df-convert:hover {\n",
              "      background-color: #E2EBFA;\n",
              "      box-shadow: 0px 1px 2px rgba(60, 64, 67, 0.3), 0px 1px 3px 1px rgba(60, 64, 67, 0.15);\n",
              "      fill: #174EA6;\n",
              "    }\n",
              "\n",
              "    .colab-df-buttons div {\n",
              "      margin-bottom: 4px;\n",
              "    }\n",
              "\n",
              "    [theme=dark] .colab-df-convert {\n",
              "      background-color: #3B4455;\n",
              "      fill: #D2E3FC;\n",
              "    }\n",
              "\n",
              "    [theme=dark] .colab-df-convert:hover {\n",
              "      background-color: #434B5C;\n",
              "      box-shadow: 0px 1px 3px 1px rgba(0, 0, 0, 0.15);\n",
              "      filter: drop-shadow(0px 1px 2px rgba(0, 0, 0, 0.3));\n",
              "      fill: #FFFFFF;\n",
              "    }\n",
              "  </style>\n",
              "\n",
              "    <script>\n",
              "      const buttonEl =\n",
              "        document.querySelector('#df-5e1c93da-f1c7-42cf-9ea6-fc853125de81 button.colab-df-convert');\n",
              "      buttonEl.style.display =\n",
              "        google.colab.kernel.accessAllowed ? 'block' : 'none';\n",
              "\n",
              "      async function convertToInteractive(key) {\n",
              "        const element = document.querySelector('#df-5e1c93da-f1c7-42cf-9ea6-fc853125de81');\n",
              "        const dataTable =\n",
              "          await google.colab.kernel.invokeFunction('convertToInteractive',\n",
              "                                                    [key], {});\n",
              "        if (!dataTable) return;\n",
              "\n",
              "        const docLinkHtml = 'Like what you see? Visit the ' +\n",
              "          '<a target=\"_blank\" href=https://colab.research.google.com/notebooks/data_table.ipynb>data table notebook</a>'\n",
              "          + ' to learn more about interactive tables.';\n",
              "        element.innerHTML = '';\n",
              "        dataTable['output_type'] = 'display_data';\n",
              "        await google.colab.output.renderOutput(dataTable, element);\n",
              "        const docLink = document.createElement('div');\n",
              "        docLink.innerHTML = docLinkHtml;\n",
              "        element.appendChild(docLink);\n",
              "      }\n",
              "    </script>\n",
              "  </div>\n",
              "\n",
              "\n",
              "<div id=\"df-dc2e04ea-2b26-4b11-b33d-b7276a6cb350\">\n",
              "  <button class=\"colab-df-quickchart\" onclick=\"quickchart('df-dc2e04ea-2b26-4b11-b33d-b7276a6cb350')\"\n",
              "            title=\"Suggest charts\"\n",
              "            style=\"display:none;\">\n",
              "\n",
              "<svg xmlns=\"http://www.w3.org/2000/svg\" height=\"24px\"viewBox=\"0 0 24 24\"\n",
              "     width=\"24px\">\n",
              "    <g>\n",
              "        <path d=\"M19 3H5c-1.1 0-2 .9-2 2v14c0 1.1.9 2 2 2h14c1.1 0 2-.9 2-2V5c0-1.1-.9-2-2-2zM9 17H7v-7h2v7zm4 0h-2V7h2v10zm4 0h-2v-4h2v4z\"/>\n",
              "    </g>\n",
              "</svg>\n",
              "  </button>\n",
              "\n",
              "<style>\n",
              "  .colab-df-quickchart {\n",
              "      --bg-color: #E8F0FE;\n",
              "      --fill-color: #1967D2;\n",
              "      --hover-bg-color: #E2EBFA;\n",
              "      --hover-fill-color: #174EA6;\n",
              "      --disabled-fill-color: #AAA;\n",
              "      --disabled-bg-color: #DDD;\n",
              "  }\n",
              "\n",
              "  [theme=dark] .colab-df-quickchart {\n",
              "      --bg-color: #3B4455;\n",
              "      --fill-color: #D2E3FC;\n",
              "      --hover-bg-color: #434B5C;\n",
              "      --hover-fill-color: #FFFFFF;\n",
              "      --disabled-bg-color: #3B4455;\n",
              "      --disabled-fill-color: #666;\n",
              "  }\n",
              "\n",
              "  .colab-df-quickchart {\n",
              "    background-color: var(--bg-color);\n",
              "    border: none;\n",
              "    border-radius: 50%;\n",
              "    cursor: pointer;\n",
              "    display: none;\n",
              "    fill: var(--fill-color);\n",
              "    height: 32px;\n",
              "    padding: 0;\n",
              "    width: 32px;\n",
              "  }\n",
              "\n",
              "  .colab-df-quickchart:hover {\n",
              "    background-color: var(--hover-bg-color);\n",
              "    box-shadow: 0 1px 2px rgba(60, 64, 67, 0.3), 0 1px 3px 1px rgba(60, 64, 67, 0.15);\n",
              "    fill: var(--button-hover-fill-color);\n",
              "  }\n",
              "\n",
              "  .colab-df-quickchart-complete:disabled,\n",
              "  .colab-df-quickchart-complete:disabled:hover {\n",
              "    background-color: var(--disabled-bg-color);\n",
              "    fill: var(--disabled-fill-color);\n",
              "    box-shadow: none;\n",
              "  }\n",
              "\n",
              "  .colab-df-spinner {\n",
              "    border: 2px solid var(--fill-color);\n",
              "    border-color: transparent;\n",
              "    border-bottom-color: var(--fill-color);\n",
              "    animation:\n",
              "      spin 1s steps(1) infinite;\n",
              "  }\n",
              "\n",
              "  @keyframes spin {\n",
              "    0% {\n",
              "      border-color: transparent;\n",
              "      border-bottom-color: var(--fill-color);\n",
              "      border-left-color: var(--fill-color);\n",
              "    }\n",
              "    20% {\n",
              "      border-color: transparent;\n",
              "      border-left-color: var(--fill-color);\n",
              "      border-top-color: var(--fill-color);\n",
              "    }\n",
              "    30% {\n",
              "      border-color: transparent;\n",
              "      border-left-color: var(--fill-color);\n",
              "      border-top-color: var(--fill-color);\n",
              "      border-right-color: var(--fill-color);\n",
              "    }\n",
              "    40% {\n",
              "      border-color: transparent;\n",
              "      border-right-color: var(--fill-color);\n",
              "      border-top-color: var(--fill-color);\n",
              "    }\n",
              "    60% {\n",
              "      border-color: transparent;\n",
              "      border-right-color: var(--fill-color);\n",
              "    }\n",
              "    80% {\n",
              "      border-color: transparent;\n",
              "      border-right-color: var(--fill-color);\n",
              "      border-bottom-color: var(--fill-color);\n",
              "    }\n",
              "    90% {\n",
              "      border-color: transparent;\n",
              "      border-bottom-color: var(--fill-color);\n",
              "    }\n",
              "  }\n",
              "</style>\n",
              "\n",
              "  <script>\n",
              "    async function quickchart(key) {\n",
              "      const quickchartButtonEl =\n",
              "        document.querySelector('#' + key + ' button');\n",
              "      quickchartButtonEl.disabled = true;  // To prevent multiple clicks.\n",
              "      quickchartButtonEl.classList.add('colab-df-spinner');\n",
              "      try {\n",
              "        const charts = await google.colab.kernel.invokeFunction(\n",
              "            'suggestCharts', [key], {});\n",
              "      } catch (error) {\n",
              "        console.error('Error during call to suggestCharts:', error);\n",
              "      }\n",
              "      quickchartButtonEl.classList.remove('colab-df-spinner');\n",
              "      quickchartButtonEl.classList.add('colab-df-quickchart-complete');\n",
              "    }\n",
              "    (() => {\n",
              "      let quickchartButtonEl =\n",
              "        document.querySelector('#df-dc2e04ea-2b26-4b11-b33d-b7276a6cb350 button');\n",
              "      quickchartButtonEl.style.display =\n",
              "        google.colab.kernel.accessAllowed ? 'block' : 'none';\n",
              "    })();\n",
              "  </script>\n",
              "</div>\n",
              "\n",
              "    </div>\n",
              "  </div>\n"
            ],
            "application/vnd.google.colaboratory.intrinsic+json": {
              "type": "dataframe",
              "summary": "{\n  \"name\": \"popular_destination\",\n  \"rows\": 5,\n  \"fields\": [\n    {\n      \"column\": \"dst\",\n      \"properties\": {\n        \"dtype\": \"string\",\n        \"num_unique_values\": 5,\n        \"samples\": [\n          \"San Francisco Caltrain 2 (330 Townsend)\",\n          \"Townsend at 7th\",\n          \"Market at Sansome\"\n        ],\n        \"semantic_type\": \"\",\n        \"description\": \"\"\n      }\n    },\n    {\n      \"column\": \"count\",\n      \"properties\": {\n        \"dtype\": \"number\",\n        \"std\": 14763,\n        \"min\": 24878,\n        \"max\": 59258,\n        \"num_unique_values\": 5,\n        \"samples\": [\n          33422,\n          24878,\n          25540\n        ],\n        \"semantic_type\": \"\",\n        \"description\": \"\"\n      }\n    }\n  ]\n}"
            }
          },
          "metadata": {},
          "execution_count": 75
        }
      ]
    },
    {
      "cell_type": "markdown",
      "source": [
        "4) คำนวณ **ระยะเวลาการเดินทาง (Duration) โดยเฉลี่ย** สำหรับแต่ละคู่สถานีต้นทางและปลายทาง พร้อมเรียงลำดับจากคู่สถานีที่ใช้ระยะเวลาเดินทาง **น้อยที่สุดไปมากที่สุด**"
      ],
      "metadata": {
        "id": "BfkihBtJw3am"
      }
    },
    {
      "cell_type": "code",
      "source": [
        "avg_duration = (\n",
        "    station_graph\n",
        "    .edges\n",
        "    .groupBy(\"src\", \"dst\")\n",
        "    .avg(\"cost\")\n",
        "    .sort(\"avg(cost)\", ascending=True)\n",
        ")"
      ],
      "metadata": {
        "id": "M-LsnbfQxiMu"
      },
      "execution_count": null,
      "outputs": []
    },
    {
      "cell_type": "code",
      "source": [
        "avg_duration.toPandas()"
      ],
      "metadata": {
        "id": "zeOStkyixzr2",
        "colab": {
          "base_uri": "https://localhost:8080/",
          "height": 423
        },
        "outputId": "008be637-7f93-428e-cea1-0b5432c0c1ef"
      },
      "execution_count": null,
      "outputs": [
        {
          "output_type": "execute_result",
          "data": {
            "text/plain": [
              "                                   src  \\\n",
              "0                      Beale at Market   \n",
              "1             Arena Green / SAP Center   \n",
              "2        Redwood City Caltrain Station   \n",
              "3                     Davis at Jackson   \n",
              "4                      Spear at Folsom   \n",
              "...                                ...   \n",
              "1911    Mountain View Caltrain Station   \n",
              "1912          South Van Ness at Market   \n",
              "1913   Santa Clara County Civic Center   \n",
              "1914  Castro Street and El Camino Real   \n",
              "1915       Redwood City Medical Center   \n",
              "\n",
              "                                                dst      avg(cost)  \n",
              "0     Temporary Transbay Terminal (Howard at Beale)     180.239791  \n",
              "1                            Santa Clara at Almaden     222.119926  \n",
              "2                 Civic Center BART (7th at Market)     236.000000  \n",
              "3                                   Beale at Market     238.517970  \n",
              "4     Temporary Transbay Terminal (Howard at Beale)     242.247312  \n",
              "...                                             ...            ...  \n",
              "1911              San Jose Diridon Caltrain Station  101207.500000  \n",
              "1912                                  2nd at Folsom  156461.036036  \n",
              "1913                California Ave Caltrain Station  169308.000000  \n",
              "1914                                  Howard at 2nd  179212.500000  \n",
              "1915                     SJSU - San Salvador at 9th  229914.000000  \n",
              "\n",
              "[1916 rows x 3 columns]"
            ],
            "text/html": [
              "\n",
              "  <div id=\"df-5ec81058-9be4-4ed4-973a-343555ac4f71\" class=\"colab-df-container\">\n",
              "    <div>\n",
              "<style scoped>\n",
              "    .dataframe tbody tr th:only-of-type {\n",
              "        vertical-align: middle;\n",
              "    }\n",
              "\n",
              "    .dataframe tbody tr th {\n",
              "        vertical-align: top;\n",
              "    }\n",
              "\n",
              "    .dataframe thead th {\n",
              "        text-align: right;\n",
              "    }\n",
              "</style>\n",
              "<table border=\"1\" class=\"dataframe\">\n",
              "  <thead>\n",
              "    <tr style=\"text-align: right;\">\n",
              "      <th></th>\n",
              "      <th>src</th>\n",
              "      <th>dst</th>\n",
              "      <th>avg(cost)</th>\n",
              "    </tr>\n",
              "  </thead>\n",
              "  <tbody>\n",
              "    <tr>\n",
              "      <th>0</th>\n",
              "      <td>Beale at Market</td>\n",
              "      <td>Temporary Transbay Terminal (Howard at Beale)</td>\n",
              "      <td>180.239791</td>\n",
              "    </tr>\n",
              "    <tr>\n",
              "      <th>1</th>\n",
              "      <td>Arena Green / SAP Center</td>\n",
              "      <td>Santa Clara at Almaden</td>\n",
              "      <td>222.119926</td>\n",
              "    </tr>\n",
              "    <tr>\n",
              "      <th>2</th>\n",
              "      <td>Redwood City Caltrain Station</td>\n",
              "      <td>Civic Center BART (7th at Market)</td>\n",
              "      <td>236.000000</td>\n",
              "    </tr>\n",
              "    <tr>\n",
              "      <th>3</th>\n",
              "      <td>Davis at Jackson</td>\n",
              "      <td>Beale at Market</td>\n",
              "      <td>238.517970</td>\n",
              "    </tr>\n",
              "    <tr>\n",
              "      <th>4</th>\n",
              "      <td>Spear at Folsom</td>\n",
              "      <td>Temporary Transbay Terminal (Howard at Beale)</td>\n",
              "      <td>242.247312</td>\n",
              "    </tr>\n",
              "    <tr>\n",
              "      <th>...</th>\n",
              "      <td>...</td>\n",
              "      <td>...</td>\n",
              "      <td>...</td>\n",
              "    </tr>\n",
              "    <tr>\n",
              "      <th>1911</th>\n",
              "      <td>Mountain View Caltrain Station</td>\n",
              "      <td>San Jose Diridon Caltrain Station</td>\n",
              "      <td>101207.500000</td>\n",
              "    </tr>\n",
              "    <tr>\n",
              "      <th>1912</th>\n",
              "      <td>South Van Ness at Market</td>\n",
              "      <td>2nd at Folsom</td>\n",
              "      <td>156461.036036</td>\n",
              "    </tr>\n",
              "    <tr>\n",
              "      <th>1913</th>\n",
              "      <td>Santa Clara County Civic Center</td>\n",
              "      <td>California Ave Caltrain Station</td>\n",
              "      <td>169308.000000</td>\n",
              "    </tr>\n",
              "    <tr>\n",
              "      <th>1914</th>\n",
              "      <td>Castro Street and El Camino Real</td>\n",
              "      <td>Howard at 2nd</td>\n",
              "      <td>179212.500000</td>\n",
              "    </tr>\n",
              "    <tr>\n",
              "      <th>1915</th>\n",
              "      <td>Redwood City Medical Center</td>\n",
              "      <td>SJSU - San Salvador at 9th</td>\n",
              "      <td>229914.000000</td>\n",
              "    </tr>\n",
              "  </tbody>\n",
              "</table>\n",
              "<p>1916 rows × 3 columns</p>\n",
              "</div>\n",
              "    <div class=\"colab-df-buttons\">\n",
              "\n",
              "  <div class=\"colab-df-container\">\n",
              "    <button class=\"colab-df-convert\" onclick=\"convertToInteractive('df-5ec81058-9be4-4ed4-973a-343555ac4f71')\"\n",
              "            title=\"Convert this dataframe to an interactive table.\"\n",
              "            style=\"display:none;\">\n",
              "\n",
              "  <svg xmlns=\"http://www.w3.org/2000/svg\" height=\"24px\" viewBox=\"0 -960 960 960\">\n",
              "    <path d=\"M120-120v-720h720v720H120Zm60-500h600v-160H180v160Zm220 220h160v-160H400v160Zm0 220h160v-160H400v160ZM180-400h160v-160H180v160Zm440 0h160v-160H620v160ZM180-180h160v-160H180v160Zm440 0h160v-160H620v160Z\"/>\n",
              "  </svg>\n",
              "    </button>\n",
              "\n",
              "  <style>\n",
              "    .colab-df-container {\n",
              "      display:flex;\n",
              "      gap: 12px;\n",
              "    }\n",
              "\n",
              "    .colab-df-convert {\n",
              "      background-color: #E8F0FE;\n",
              "      border: none;\n",
              "      border-radius: 50%;\n",
              "      cursor: pointer;\n",
              "      display: none;\n",
              "      fill: #1967D2;\n",
              "      height: 32px;\n",
              "      padding: 0 0 0 0;\n",
              "      width: 32px;\n",
              "    }\n",
              "\n",
              "    .colab-df-convert:hover {\n",
              "      background-color: #E2EBFA;\n",
              "      box-shadow: 0px 1px 2px rgba(60, 64, 67, 0.3), 0px 1px 3px 1px rgba(60, 64, 67, 0.15);\n",
              "      fill: #174EA6;\n",
              "    }\n",
              "\n",
              "    .colab-df-buttons div {\n",
              "      margin-bottom: 4px;\n",
              "    }\n",
              "\n",
              "    [theme=dark] .colab-df-convert {\n",
              "      background-color: #3B4455;\n",
              "      fill: #D2E3FC;\n",
              "    }\n",
              "\n",
              "    [theme=dark] .colab-df-convert:hover {\n",
              "      background-color: #434B5C;\n",
              "      box-shadow: 0px 1px 3px 1px rgba(0, 0, 0, 0.15);\n",
              "      filter: drop-shadow(0px 1px 2px rgba(0, 0, 0, 0.3));\n",
              "      fill: #FFFFFF;\n",
              "    }\n",
              "  </style>\n",
              "\n",
              "    <script>\n",
              "      const buttonEl =\n",
              "        document.querySelector('#df-5ec81058-9be4-4ed4-973a-343555ac4f71 button.colab-df-convert');\n",
              "      buttonEl.style.display =\n",
              "        google.colab.kernel.accessAllowed ? 'block' : 'none';\n",
              "\n",
              "      async function convertToInteractive(key) {\n",
              "        const element = document.querySelector('#df-5ec81058-9be4-4ed4-973a-343555ac4f71');\n",
              "        const dataTable =\n",
              "          await google.colab.kernel.invokeFunction('convertToInteractive',\n",
              "                                                    [key], {});\n",
              "        if (!dataTable) return;\n",
              "\n",
              "        const docLinkHtml = 'Like what you see? Visit the ' +\n",
              "          '<a target=\"_blank\" href=https://colab.research.google.com/notebooks/data_table.ipynb>data table notebook</a>'\n",
              "          + ' to learn more about interactive tables.';\n",
              "        element.innerHTML = '';\n",
              "        dataTable['output_type'] = 'display_data';\n",
              "        await google.colab.output.renderOutput(dataTable, element);\n",
              "        const docLink = document.createElement('div');\n",
              "        docLink.innerHTML = docLinkHtml;\n",
              "        element.appendChild(docLink);\n",
              "      }\n",
              "    </script>\n",
              "  </div>\n",
              "\n",
              "\n",
              "<div id=\"df-be9cfd40-c2a0-4481-8195-1663cf7d9c3b\">\n",
              "  <button class=\"colab-df-quickchart\" onclick=\"quickchart('df-be9cfd40-c2a0-4481-8195-1663cf7d9c3b')\"\n",
              "            title=\"Suggest charts\"\n",
              "            style=\"display:none;\">\n",
              "\n",
              "<svg xmlns=\"http://www.w3.org/2000/svg\" height=\"24px\"viewBox=\"0 0 24 24\"\n",
              "     width=\"24px\">\n",
              "    <g>\n",
              "        <path d=\"M19 3H5c-1.1 0-2 .9-2 2v14c0 1.1.9 2 2 2h14c1.1 0 2-.9 2-2V5c0-1.1-.9-2-2-2zM9 17H7v-7h2v7zm4 0h-2V7h2v10zm4 0h-2v-4h2v4z\"/>\n",
              "    </g>\n",
              "</svg>\n",
              "  </button>\n",
              "\n",
              "<style>\n",
              "  .colab-df-quickchart {\n",
              "      --bg-color: #E8F0FE;\n",
              "      --fill-color: #1967D2;\n",
              "      --hover-bg-color: #E2EBFA;\n",
              "      --hover-fill-color: #174EA6;\n",
              "      --disabled-fill-color: #AAA;\n",
              "      --disabled-bg-color: #DDD;\n",
              "  }\n",
              "\n",
              "  [theme=dark] .colab-df-quickchart {\n",
              "      --bg-color: #3B4455;\n",
              "      --fill-color: #D2E3FC;\n",
              "      --hover-bg-color: #434B5C;\n",
              "      --hover-fill-color: #FFFFFF;\n",
              "      --disabled-bg-color: #3B4455;\n",
              "      --disabled-fill-color: #666;\n",
              "  }\n",
              "\n",
              "  .colab-df-quickchart {\n",
              "    background-color: var(--bg-color);\n",
              "    border: none;\n",
              "    border-radius: 50%;\n",
              "    cursor: pointer;\n",
              "    display: none;\n",
              "    fill: var(--fill-color);\n",
              "    height: 32px;\n",
              "    padding: 0;\n",
              "    width: 32px;\n",
              "  }\n",
              "\n",
              "  .colab-df-quickchart:hover {\n",
              "    background-color: var(--hover-bg-color);\n",
              "    box-shadow: 0 1px 2px rgba(60, 64, 67, 0.3), 0 1px 3px 1px rgba(60, 64, 67, 0.15);\n",
              "    fill: var(--button-hover-fill-color);\n",
              "  }\n",
              "\n",
              "  .colab-df-quickchart-complete:disabled,\n",
              "  .colab-df-quickchart-complete:disabled:hover {\n",
              "    background-color: var(--disabled-bg-color);\n",
              "    fill: var(--disabled-fill-color);\n",
              "    box-shadow: none;\n",
              "  }\n",
              "\n",
              "  .colab-df-spinner {\n",
              "    border: 2px solid var(--fill-color);\n",
              "    border-color: transparent;\n",
              "    border-bottom-color: var(--fill-color);\n",
              "    animation:\n",
              "      spin 1s steps(1) infinite;\n",
              "  }\n",
              "\n",
              "  @keyframes spin {\n",
              "    0% {\n",
              "      border-color: transparent;\n",
              "      border-bottom-color: var(--fill-color);\n",
              "      border-left-color: var(--fill-color);\n",
              "    }\n",
              "    20% {\n",
              "      border-color: transparent;\n",
              "      border-left-color: var(--fill-color);\n",
              "      border-top-color: var(--fill-color);\n",
              "    }\n",
              "    30% {\n",
              "      border-color: transparent;\n",
              "      border-left-color: var(--fill-color);\n",
              "      border-top-color: var(--fill-color);\n",
              "      border-right-color: var(--fill-color);\n",
              "    }\n",
              "    40% {\n",
              "      border-color: transparent;\n",
              "      border-right-color: var(--fill-color);\n",
              "      border-top-color: var(--fill-color);\n",
              "    }\n",
              "    60% {\n",
              "      border-color: transparent;\n",
              "      border-right-color: var(--fill-color);\n",
              "    }\n",
              "    80% {\n",
              "      border-color: transparent;\n",
              "      border-right-color: var(--fill-color);\n",
              "      border-bottom-color: var(--fill-color);\n",
              "    }\n",
              "    90% {\n",
              "      border-color: transparent;\n",
              "      border-bottom-color: var(--fill-color);\n",
              "    }\n",
              "  }\n",
              "</style>\n",
              "\n",
              "  <script>\n",
              "    async function quickchart(key) {\n",
              "      const quickchartButtonEl =\n",
              "        document.querySelector('#' + key + ' button');\n",
              "      quickchartButtonEl.disabled = true;  // To prevent multiple clicks.\n",
              "      quickchartButtonEl.classList.add('colab-df-spinner');\n",
              "      try {\n",
              "        const charts = await google.colab.kernel.invokeFunction(\n",
              "            'suggestCharts', [key], {});\n",
              "      } catch (error) {\n",
              "        console.error('Error during call to suggestCharts:', error);\n",
              "      }\n",
              "      quickchartButtonEl.classList.remove('colab-df-spinner');\n",
              "      quickchartButtonEl.classList.add('colab-df-quickchart-complete');\n",
              "    }\n",
              "    (() => {\n",
              "      let quickchartButtonEl =\n",
              "        document.querySelector('#df-be9cfd40-c2a0-4481-8195-1663cf7d9c3b button');\n",
              "      quickchartButtonEl.style.display =\n",
              "        google.colab.kernel.accessAllowed ? 'block' : 'none';\n",
              "    })();\n",
              "  </script>\n",
              "</div>\n",
              "\n",
              "    </div>\n",
              "  </div>\n"
            ],
            "application/vnd.google.colaboratory.intrinsic+json": {
              "type": "dataframe",
              "summary": "{\n  \"name\": \"avg_duration\",\n  \"rows\": 1916,\n  \"fields\": [\n    {\n      \"column\": \"src\",\n      \"properties\": {\n        \"dtype\": \"category\",\n        \"num_unique_values\": 74,\n        \"samples\": [\n          \"Spear at Folsom\",\n          \"Harry Bridges Plaza (Ferry Building)\",\n          \"Broadway at Main\"\n        ],\n        \"semantic_type\": \"\",\n        \"description\": \"\"\n      }\n    },\n    {\n      \"column\": \"dst\",\n      \"properties\": {\n        \"dtype\": \"category\",\n        \"num_unique_values\": 74,\n        \"samples\": [\n          \"Washington at Kearny\",\n          \"Castro Street and El Camino Real\",\n          \"Davis at Jackson\"\n        ],\n        \"semantic_type\": \"\",\n        \"description\": \"\"\n      }\n    },\n    {\n      \"column\": \"avg(cost)\",\n      \"properties\": {\n        \"dtype\": \"number\",\n        \"std\": 11202.202012017628,\n        \"min\": 180.23979148566463,\n        \"max\": 229914.0,\n        \"num_unique_values\": 1916,\n        \"samples\": [\n          973.6113861386139,\n          1918.5,\n          746.9750566893424\n        ],\n        \"semantic_type\": \"\",\n        \"description\": \"\"\n      }\n    }\n  ]\n}"
            }
          },
          "metadata": {},
          "execution_count": 77
        }
      ]
    },
    {
      "cell_type": "markdown",
      "source": [
        "---"
      ],
      "metadata": {
        "id": "dR1gU6IdWGTs"
      }
    },
    {
      "cell_type": "code",
      "source": [],
      "metadata": {
        "id": "_lncbFM_WGld"
      },
      "execution_count": null,
      "outputs": []
    }
  ]
}